{
 "cells": [
  {
   "cell_type": "markdown",
   "metadata": {},
   "source": [
    "### Function to print the alternative values in a range in the same line\n",
    "### [500, 550] ---> 500 502 504 506 508 ........550\n",
    "### (500, 550) ---> 501,503,505........549\n",
    "\n",
    "### All set base function in python have start vale inclusive and end value exclusive\n",
    "### range(500, 550)  ---> 500,502,502,503...........549"
   ]
  },
  {
   "cell_type": "code",
   "execution_count": 8,
   "metadata": {},
   "outputs": [
    {
     "name": "stdout",
     "output_type": "stream",
     "text": [
      "500 504 508 512 516 520 524 528 532 536 540 544 548 "
     ]
    }
   ],
   "source": [
    "def alternateValues(lowerBound, upperBound):\n",
    "    for value in range(lowerBound, upperBound+1,4):\n",
    "        print(value,end=\" \")\n",
    "    return\n",
    "        \n",
    "alternateValues(500,550)"
   ]
  },
  {
   "cell_type": "markdown",
   "metadata": {},
   "source": [
    "### Function to print reverse of a range in same line"
   ]
  },
  {
   "cell_type": "code",
   "execution_count": 9,
   "metadata": {},
   "outputs": [
    {
     "name": "stdout",
     "output_type": "stream",
     "text": [
      "550 548 546 544 542 540 538 536 534 532 530 528 526 524 522 520 518 516 514 512 510 508 506 504 502 500 "
     ]
    }
   ],
   "source": [
    "def reverseRange(lowerBound, upperBound):\n",
    "    for value in range(upperBound, lowerBound-1,-2):\n",
    "        print(value,end=\" \")\n",
    "    return\n",
    "        \n",
    "reverseRange(500,550)"
   ]
  },
  {
   "cell_type": "markdown",
   "metadata": {},
   "source": [
    "### Function to print odd numbers in reverse order in a same line"
   ]
  },
  {
   "cell_type": "code",
   "execution_count": 10,
   "metadata": {},
   "outputs": [
    {
     "name": "stdout",
     "output_type": "stream",
     "text": [
      "549 547 545 543 541 539 537 535 533 531 529 527 525 523 521 519 517 515 513 511 509 507 505 503 501 "
     ]
    }
   ],
   "source": [
    "def oddReverseRange(lowerBound, upperBound):\n",
    "    for value in range(upperBound-1, lowerBound,-2):\n",
    "        print(value,end=\" \")\n",
    "    return\n",
    "        \n",
    "oddReverseRange(500,550)"
   ]
  },
  {
   "cell_type": "markdown",
   "metadata": {},
   "source": [
    "### Function to calculate the sum of numbers in a range"
   ]
  },
  {
   "cell_type": "code",
   "execution_count": 11,
   "metadata": {},
   "outputs": [
    {
     "name": "stdout",
     "output_type": "stream",
     "text": [
      "1 2 3 4 5 6 7 8 9 10 11 12 13 14 15 16 17 18 19 20 21 22 23 24 25 26 27 28 29 30 31 32 33 34 35 36 37 38 39 40 41 42 43 44 45 46 47 48 49 50 "
     ]
    },
    {
     "data": {
      "text/plain": [
       "('The sum of numbers in a given range is', 1275)"
      ]
     },
     "execution_count": 11,
     "metadata": {},
     "output_type": "execute_result"
    }
   ],
   "source": [
    "def sumOfNumber(start, end):\n",
    "    sum=0\n",
    "    for i in range(start,end+1):\n",
    "        print(i,end=\" \")\n",
    "        sum=sum+i\n",
    "    return \"The sum of numbers in a given range is\",sum\n",
    "\n",
    "sumOfNumber(1,50)"
   ]
  },
  {
   "cell_type": "markdown",
   "metadata": {},
   "source": [
    "### Function to calculate the average of a given range"
   ]
  },
  {
   "cell_type": "code",
   "execution_count": 12,
   "metadata": {},
   "outputs": [
    {
     "data": {
      "text/plain": [
       "5.5"
      ]
     },
     "execution_count": 12,
     "metadata": {},
     "output_type": "execute_result"
    }
   ],
   "source": [
    "def avgNumber(start,end):\n",
    "    sum=0\n",
    "    count=0\n",
    "    avg=0\n",
    "    for i in range(start,end+1):\n",
    "        sum=sum+i\n",
    "        count=count+1\n",
    "        avg=sum/count\n",
    "    return avg\n",
    "\n",
    "avgNumber(1,10)"
   ]
  },
  {
   "cell_type": "markdown",
   "metadata": {},
   "source": [
    "### Function to generate all the leap years in a given time period\n",
    "#### 2000 - 2020 --> 2004,200"
   ]
  },
  {
   "cell_type": "code",
   "execution_count": 13,
   "metadata": {},
   "outputs": [
    {
     "name": "stdout",
     "output_type": "stream",
     "text": [
      "2004 2008 2012 2016 2020 "
     ]
    }
   ],
   "source": [
    "def generateLeapYear(startYear,endYear):\n",
    "    sum=0\n",
    "    for i in range(startYear,endYear+1):\n",
    "        if isLeapYear(i):\n",
    "            print(i,end=\" \")\n",
    "        \n",
    "    return\n",
    "\n",
    "def isLeapYear(year):\n",
    "    if (year%4==0 or year%400==0) and (year%100!=0):\n",
    "        return True\n",
    "    return False\n",
    "            \n",
    "        \n",
    "generateLeapYear(2000,2020)   "
   ]
  },
  {
   "cell_type": "code",
   "execution_count": 69,
   "metadata": {},
   "outputs": [
    {
     "name": "stdout",
     "output_type": "stream",
     "text": [
      "8521\n",
      "204504 days, 0:00:00\n"
     ]
    }
   ],
   "source": [
    "from datetime import date\n",
    "\n",
    "d0 = date(1975, 11, 1)\n",
    "d1 = date(1999, 3, 1)\n",
    "delta = d1 - d0\n",
    "no_of_hours=delta*24\n",
    "print(delta.days)\n",
    "print(no_of_hours)"
   ]
  },
  {
   "cell_type": "code",
   "execution_count": 85,
   "metadata": {},
   "outputs": [
    {
     "data": {
      "text/plain": [
       "7670"
      ]
     },
     "execution_count": 85,
     "metadata": {},
     "output_type": "execute_result"
    }
   ],
   "source": [
    "# Calculate the number of days in a given time period\n",
    "\n",
    "def noOfDays(start,end):\n",
    "    sum=0\n",
    "    nonSum=0\n",
    "    for year in range(start,end+1):\n",
    "        if isLeapYear(year):\n",
    "            sum=sum+366\n",
    "        else:\n",
    "            sum=sum+365\n",
    "    return sum\n",
    "\n",
    "#noOfDays(2000,2020)"
   ]
  },
  {
   "cell_type": "code",
   "execution_count": 57,
   "metadata": {},
   "outputs": [
    {
     "name": "stdout",
     "output_type": "stream",
     "text": [
      "0\n",
      "5\n"
     ]
    }
   ],
   "source": [
    "def no_days(startMonth,endMonth):\n",
    "    diffMonth=0\n",
    "    nDays=0\n",
    "    diffMonth=abs(endMonth-startMonth) \n",
    "    \n",
    "    for i in range(startMonth,endMonth):\n",
    "    #    nDays=0\n",
    "        if i%2==0:\n",
    "            nDays=nDays+31\n",
    "        else:\n",
    "            nDays=nDays+30\n",
    "    print(nDays)\n",
    "    print(diffMonth)\n",
    "    return\n",
    "\n",
    "no_days(8,3)"
   ]
  },
  {
   "cell_type": "code",
   "execution_count": 95,
   "metadata": {},
   "outputs": [
    {
     "data": {
      "text/plain": [
       "178296"
      ]
     },
     "execution_count": 95,
     "metadata": {},
     "output_type": "execute_result"
    }
   ],
   "source": [
    "def numberOfDaysMonth(month,year):\n",
    "    if month==2:\n",
    "        if isLeapYear(year):\n",
    "            return 29\n",
    "        return 28\n",
    "    elif (month<=7 and month%2!=0) or (month>=8 and month!=2):\n",
    "        return 31\n",
    "    else:\n",
    "        return 30\n",
    "    \n",
    "#numberOfDaysMonth(2,1995)\n",
    "def daysInStartYear(startMonth,startYear):\n",
    "    days=0\n",
    "    for month in range(startMonth,13):\n",
    "        days=days+numberOfDaysMonth(month,startYear)\n",
    "    return days\n",
    "\n",
    "daysInStartYear(3,2000)\n",
    "\n",
    "def daysInEndYear(endMonth,endYear):\n",
    "    days=0\n",
    "    for month in range(1,endMonth+1):\n",
    "        days=days+numberOfDaysMonth(month,endYear)\n",
    "    return days\n",
    "\n",
    "daysInEndYear(6,2020)\n",
    "\n",
    "\"\"\"def daysInMiddleYears(startYear,endYear):\n",
    "    return numOfDays(startYear,endYear)\"\"\"\n",
    "\n",
    "def numberOfHours(startMonth,startyear,endMonth,endyear):\n",
    "    days=0\n",
    "    days=daysInStartYear(startMonth,startyear)\n",
    "    days+=daysInEndYear(endMonth,endyear)\n",
    "    if endyear-startyear==2:\n",
    "        days+=noOfDays(startyear+1,startyear+1)\n",
    "    elif endyear-startyear>2:\n",
    "        days+=noOfDays(startyear+1,endyear-1)\n",
    "    return 24*days\n",
    "\n",
    "numberOfHours(3,2000,6,2020)\n",
    "    \n",
    "    \n",
    "        "
   ]
  },
  {
   "cell_type": "code",
   "execution_count": 99,
   "metadata": {},
   "outputs": [
    {
     "name": "stdout",
     "output_type": "stream",
     "text": [
      "366\n",
      "Start Days are: 62\n",
      "End Days are: 368\n",
      "1440\n"
     ]
    }
   ],
   "source": [
    "def findHours(sMonth,sYear,eMonth,eYear):\n",
    "    totalDays=noOfDays(sYear,eYear)\n",
    "    print(totalDays)\n",
    "    \n",
    "    startDays=daysInStartYear(sMonth,sYear)\n",
    "    print(\"Start Days are:\",startDays)\n",
    "    \n",
    "    endDays=daysInEndYear(eMonth,eYear)\n",
    "    print(\"End Days are:\",endDays)\n",
    "    \n",
    "    fullDays=abs(startDays-endDays)\n",
    "    \n",
    "    num_of_hours=24*(abs(totalDays-fullDays))\n",
    "    print(num_of_hours)\n",
    "    \n",
    "findHours(11,2016,12,2016)"
   ]
  },
  {
   "cell_type": "code",
   "execution_count": 96,
   "metadata": {},
   "outputs": [
    {
     "data": {
      "text/plain": [
       "308"
      ]
     },
     "execution_count": 96,
     "metadata": {},
     "output_type": "execute_result"
    }
   ],
   "source": [
    "daysInStartYear(3,2000)"
   ]
  },
  {
   "cell_type": "code",
   "execution_count": 97,
   "metadata": {},
   "outputs": [
    {
     "data": {
      "text/plain": [
       "182"
      ]
     },
     "execution_count": 97,
     "metadata": {},
     "output_type": "execute_result"
    }
   ],
   "source": [
    "daysInEndYear(6,2020)"
   ]
  },
  {
   "cell_type": "code",
   "execution_count": 98,
   "metadata": {},
   "outputs": [
    {
     "data": {
      "text/plain": [
       "7670"
      ]
     },
     "execution_count": 98,
     "metadata": {},
     "output_type": "execute_result"
    }
   ],
   "source": [
    "noOfDays(2000,2020)"
   ]
  },
  {
   "cell_type": "code",
   "execution_count": null,
   "metadata": {},
   "outputs": [],
   "source": []
  }
 ],
 "metadata": {
  "kernelspec": {
   "display_name": "Python 3",
   "language": "python",
   "name": "python3"
  },
  "language_info": {
   "codemirror_mode": {
    "name": "ipython",
    "version": 3
   },
   "file_extension": ".py",
   "mimetype": "text/x-python",
   "name": "python",
   "nbconvert_exporter": "python",
   "pygments_lexer": "ipython3",
   "version": "3.7.3"
  }
 },
 "nbformat": 4,
 "nbformat_minor": 2
}
