{
 "cells": [
  {
   "cell_type": "code",
   "execution_count": null,
   "metadata": {},
   "outputs": [],
   "source": [
    "li=[]\n",
    "def playWithNumbers(li):\n",
    "    sum=0\n",
    "    for i in range(1,len(li)):\n",
    "        sum=li[1]+li[3]\n",
    "    print(sum)\n",
    "    return\n",
    "    \n",
    "    \n",
    "n=int(input())\n",
    "for i in range(1,n+1):\n",
    "    num=int(input())\n",
    "    li.append(num) \n",
    "print(li)\n",
    "\n",
    "\n",
    "playWithNumber(li)"
   ]
  },
  {
   "cell_type": "markdown",
   "metadata": {},
   "source": [
    "## Tuples\n",
    "\n",
    "Tuples are Immutable - Cannot be changed, modified,add,delete\n",
    "    - Used to access Data only\n",
    "    - All slicing work"
   ]
  },
  {
   "cell_type": "code",
   "execution_count": 8,
   "metadata": {},
   "outputs": [
    {
     "data": {
      "text/plain": [
       "(8, 6, 0)"
      ]
     },
     "execution_count": 8,
     "metadata": {},
     "output_type": "execute_result"
    }
   ],
   "source": [
    "t1=(1,2,8,6,0)\n",
    "t1[3]\n",
    "t1[len(t1)//2:]"
   ]
  },
  {
   "cell_type": "code",
   "execution_count": 9,
   "metadata": {},
   "outputs": [
    {
     "data": {
      "text/plain": [
       "tuple"
      ]
     },
     "execution_count": 9,
     "metadata": {},
     "output_type": "execute_result"
    }
   ],
   "source": [
    "type(t1)"
   ]
  },
  {
   "cell_type": "markdown",
   "metadata": {},
   "source": [
    "## Dictionary\n",
    "\n",
    "* It works on the concept of Set\n",
    "* Unique Data\n",
    "\n",
    "* Keys,Values\n",
    "     * Key is the unique identifier for a value\n",
    "     * Value is data that can be accessed with a key\n"
   ]
  },
  {
   "cell_type": "code",
   "execution_count": 48,
   "metadata": {},
   "outputs": [
    {
     "name": "stdout",
     "output_type": "stream",
     "text": [
      "dict_keys(['k1', 'k2', 'k3', 'k4'])\n",
      "dict_values(['value1', 'value2', 'value3', 'value4'])\n",
      "dict_items([('k1', 'value1'), ('k2', 'value2'), ('k3', 'value3'), ('k4', 'value4')])\n",
      "dict_items([('k1', 'value1'), ('k2', 'value2'), ('k3', 'value3'), ('k4', 'value4'), ('k5', 'value5')])\n",
      "dict_items([('k1', 'value1'), ('k2', 'value2'), ('k3', 'value3'), ('k4', 'value4'), ('k5', 'Venkatesh')])\n"
     ]
    }
   ],
   "source": [
    "d1={\"k1\":\"value1\",\"k2\":\"value2\",\"k3\":\"value3\",\"k4\":\"value4\"}\n",
    "d1[\"k1\"] # Accessing the value with Key \"k2\"\n",
    "print(d1.keys()) # This returns list of all keys\n",
    "print(d1.values()) # returns list of all values\n",
    "print(d1.items()) # returns list of tuples of keys and values\n",
    "\n",
    "d1[\"k5\"]=\"value5\"\n",
    "print(d1.items())\n",
    "d1[\"k5\"]=\"Venkatesh\"\n",
    "print(d1.items())"
   ]
  },
  {
   "cell_type": "code",
   "execution_count": 22,
   "metadata": {},
   "outputs": [
    {
     "name": "stdout",
     "output_type": "stream",
     "text": [
      "value1\n",
      "value2\n",
      "value3\n",
      "value4\n",
      "Venkatesh\n"
     ]
    }
   ],
   "source": [
    "for x in d1.values():\n",
    "    print(x)"
   ]
  },
  {
   "cell_type": "code",
   "execution_count": 23,
   "metadata": {},
   "outputs": [
    {
     "name": "stdout",
     "output_type": "stream",
     "text": [
      "k1\n",
      "k2\n",
      "k3\n",
      "k4\n",
      "k5\n"
     ]
    }
   ],
   "source": [
    "for x in d1:\n",
    "    print(x)"
   ]
  },
  {
   "cell_type": "code",
   "execution_count": 24,
   "metadata": {},
   "outputs": [
    {
     "name": "stdout",
     "output_type": "stream",
     "text": [
      "{'k1': 'value1', 'k2': 'value2', 'k3': 'value3', 'k4': 'value4'}\n"
     ]
    }
   ],
   "source": [
    "d1.pop(\"k5\")\n",
    "print(d1)"
   ]
  },
  {
   "cell_type": "code",
   "execution_count": 35,
   "metadata": {},
   "outputs": [
    {
     "ename": "NameError",
     "evalue": "name 'd1' is not defined",
     "output_type": "error",
     "traceback": [
      "\u001b[1;31m---------------------------------------------------------------------------\u001b[0m",
      "\u001b[1;31mNameError\u001b[0m                                 Traceback (most recent call last)",
      "\u001b[1;32m<ipython-input-35-8f03aca62f13>\u001b[0m in \u001b[0;36m<module>\u001b[1;34m\u001b[0m\n\u001b[1;32m----> 1\u001b[1;33m \u001b[1;32mfor\u001b[0m \u001b[0mx\u001b[0m\u001b[1;33m,\u001b[0m\u001b[0my\u001b[0m \u001b[1;32min\u001b[0m \u001b[0md1\u001b[0m\u001b[1;33m.\u001b[0m\u001b[0mitems\u001b[0m\u001b[1;33m(\u001b[0m\u001b[1;33m)\u001b[0m\u001b[1;33m:\u001b[0m\u001b[1;33m\u001b[0m\u001b[1;33m\u001b[0m\u001b[0m\n\u001b[0m\u001b[0;32m      2\u001b[0m     \u001b[0mprint\u001b[0m\u001b[1;33m(\u001b[0m\u001b[0mx\u001b[0m\u001b[1;33m,\u001b[0m\u001b[0my\u001b[0m\u001b[1;33m)\u001b[0m\u001b[1;33m\u001b[0m\u001b[1;33m\u001b[0m\u001b[0m\n",
      "\u001b[1;31mNameError\u001b[0m: name 'd1' is not defined"
     ]
    }
   ],
   "source": [
    "for x,y in d1.items():\n",
    "    print(x,y)"
   ]
  },
  {
   "cell_type": "code",
   "execution_count": 27,
   "metadata": {},
   "outputs": [
    {
     "name": "stdout",
     "output_type": "stream",
     "text": [
      "{}\n"
     ]
    }
   ],
   "source": [
    "d1.clear()\n",
    "print(d1)"
   ]
  },
  {
   "cell_type": "code",
   "execution_count": 33,
   "metadata": {},
   "outputs": [],
   "source": [
    "del(d1)"
   ]
  },
  {
   "cell_type": "code",
   "execution_count": 38,
   "metadata": {},
   "outputs": [
    {
     "data": {
      "text/plain": [
       "{'k1': 'value1',\n",
       " 'k2': 'value2',\n",
       " 'k3': 'value3',\n",
       " 'k4': 'value4',\n",
       " 'k5': 'Venkatesh'}"
      ]
     },
     "execution_count": 38,
     "metadata": {},
     "output_type": "execute_result"
    }
   ],
   "source": [
    "d1"
   ]
  },
  {
   "cell_type": "code",
   "execution_count": 40,
   "metadata": {},
   "outputs": [
    {
     "data": {
      "text/plain": [
       "('k5', 'Venkatesh')"
      ]
     },
     "execution_count": 40,
     "metadata": {},
     "output_type": "execute_result"
    }
   ],
   "source": [
    "d1.popitem()"
   ]
  },
  {
   "cell_type": "markdown",
   "metadata": {},
   "source": [
    "### Contacts Application\n",
    "- Add Contact\n",
    "- Search for Contact\n",
    "- Modify Contact\n",
    "- Delete Contact\n",
    "- List all Contacts\n",
    "    - name1 : phone1\n",
    "    - name2 : phone2\n",
    "- Import Contact\n",
    "  "
   ]
  },
  {
   "cell_type": "code",
   "execution_count": 4,
   "metadata": {},
   "outputs": [
    {
     "name": "stdout",
     "output_type": "stream",
     "text": [
      "{'Hanuman Sai': 9999}\n"
     ]
    }
   ],
   "source": [
    "contacts={}\n",
    "\n",
    "def addContact(name,number):\n",
    "    # Verify that contact is not already in contacts\n",
    "    if name not in contacts:\n",
    "        contacts[name]=number\n",
    "        print(contacts)\n",
    "    else:\n",
    "        print(\"Contact % already exists\" %name)\n",
    "\n",
    "\n",
    "#name=input()\n",
    "#number=int(input())\n",
    "addContact(\"Hanuman Sai\",9999)"
   ]
  },
  {
   "cell_type": "code",
   "execution_count": 6,
   "metadata": {},
   "outputs": [
    {
     "name": "stdout",
     "output_type": "stream",
     "text": [
      "venkatesh : 9030\n"
     ]
    }
   ],
   "source": [
    "def searchContacts(name):\n",
    "    if name in contacts:\n",
    "        print(name,\":\",contacts[name])\n",
    "    else:\n",
    "        print(\"Name doesn't exist\")\n",
    "    return\n",
    "\n",
    "searchContacts(\"venkatesh\")\n"
   ]
  },
  {
   "cell_type": "code",
   "execution_count": 5,
   "metadata": {},
   "outputs": [
    {
     "name": "stdout",
     "output_type": "stream",
     "text": [
      "Hanuman Sai : 9999\n"
     ]
    }
   ],
   "source": [
    "def listAllContacts():\n",
    "    for x,y in contacts.items():\n",
    "        print(x,\":\",y)\n",
    "\n",
    "listAllContacts()\n"
   ]
  },
  {
   "cell_type": "code",
   "execution_count": 12,
   "metadata": {},
   "outputs": [
    {
     "name": "stdout",
     "output_type": "stream",
     "text": [
      "{'Hanuman Sai': 9999, 'Hanumans Sai': 9746, 'name': 'number'}\n"
     ]
    }
   ],
   "source": [
    "def modifyContact(name,number):\n",
    "    contacts.update({name:number})\n",
    "    print(contacts)\n",
    "    \n",
    "modifyContact(\"Hanumans Sai\",9746)"
   ]
  },
  {
   "cell_type": "code",
   "execution_count": 14,
   "metadata": {},
   "outputs": [
    {
     "name": "stdout",
     "output_type": "stream",
     "text": [
      "{'Hanuman Sai': 9999, 'Hanumans Sai': 9746, 'name': 'number', 'Mom': 88484, 'Dad': 382423, 'satish': 88484, 'pj': 382423}\n"
     ]
    }
   ],
   "source": [
    "# New Contacts is given as a dictionary\n",
    "# Merge new contacts with existing contacts\n",
    "\n",
    "def importContacts(newContacts):\n",
    "    contacts.update(newContacts)\n",
    "    print(contacts)\n",
    "    return\n",
    "\n",
    "newContacts={\"satish\":88484,\"pj\":382423}\n",
    "importContacts(newContacts)\n"
   ]
  },
  {
   "cell_type": "markdown",
   "metadata": {},
   "source": [
    "## Packages and Modules\n",
    "\n",
    "**Package** --> COllection of Modules(Python FIle.py)\n",
    "\n",
    "\n",
    "**Sub Package** --> \n",
    "\n",
    "**Module** --> A single python file containing functions\n",
    "\n",
    "**Pacakage** --> Subpackages --> Modules --> Functions"
   ]
  },
  {
   "cell_type": "code",
   "execution_count": 7,
   "metadata": {},
   "outputs": [
    {
     "data": {
      "text/plain": [
       "3.141592653589793"
      ]
     },
     "execution_count": 7,
     "metadata": {},
     "output_type": "execute_result"
    }
   ],
   "source": [
    "from math import floor,pi\n",
    "floor(123.456)\n",
    "pi\n"
   ]
  },
  {
   "cell_type": "code",
   "execution_count": 37,
   "metadata": {},
   "outputs": [
    {
     "name": "stdout",
     "output_type": "stream",
     "text": [
      "72 26 48 29 11 45 79 36 54 45 "
     ]
    }
   ],
   "source": [
    "# Define a function to generate N random Numbers in a given range\n",
    "\n",
    "import random\n",
    "\n",
    "def generateNRandomNumbers(n,lb,ub):\n",
    "    for i in range(0,n):\n",
    "        print(random.randint(lb,ub),end=\" \")\n",
    "    \n",
    "generateNRandomNumbers(10, 0, 100)\n"
   ]
  },
  {
   "cell_type": "code",
   "execution_count": 2,
   "metadata": {},
   "outputs": [
    {
     "name": "stdout",
     "output_type": "stream",
     "text": [
      "1\n",
      "2\n"
     ]
    }
   ],
   "source": [
    "from Packages import numerical\n",
    "\n",
    "numerical.findInString(\"aZ$6\")"
   ]
  },
  {
   "cell_type": "code",
   "execution_count": null,
   "metadata": {},
   "outputs": [],
   "source": []
  }
 ],
 "metadata": {
  "kernelspec": {
   "display_name": "Python 3",
   "language": "python",
   "name": "python3"
  },
  "language_info": {
   "codemirror_mode": {
    "name": "ipython",
    "version": 3
   },
   "file_extension": ".py",
   "mimetype": "text/x-python",
   "name": "python",
   "nbconvert_exporter": "python",
   "pygments_lexer": "ipython3",
   "version": "3.7.3"
  }
 },
 "nbformat": 4,
 "nbformat_minor": 2
}
