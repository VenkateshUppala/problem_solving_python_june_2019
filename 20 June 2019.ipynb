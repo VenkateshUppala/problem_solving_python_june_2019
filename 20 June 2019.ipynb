{
 "cells": [
  {
   "cell_type": "markdown",
   "metadata": {},
   "source": [
    "## Regular Expressions\n",
    "\n",
    "* Pattern Matching\n",
    "* Symbolic Notation of a patten\n",
    "    * Pattern : Format which repeats\n",
    "    * Pattern (RE) - It represents the set of all string/values that matches a pattern\n",
    "* [0-9] --> Any digit\n",
    "* [a-z] --> Any lower case alphabet\n",
    "* ^[0-9]{1}$ --> Accepts regular expression for only one digit\n",
    "\n",
    "* ^[0-9]{2}$ --> Accepts regular expression for two digits\n",
    "\n",
    "* [0-9]*0$ --> All multiples of 10\n",
    "\n",
    "* ^([1-9][0-9]*[05])$|^([5])$ --> All multiples of 5\n",
    "\n",
    "* ^[1-9][0-9]{9}$ --> All 10 digits\n",
    "\n",
    "* [w][o][r][d] or (word) --> Searching for a 'word'\n",
    "* ^[6-9][0-9]{9}$|^[0][6-9][0-9]{9}$|^[+][9][1][6-9][0-9]{9}$ --> For finding phone number\n",
    "\n",
    "\n",
    "* --> Email Validation (username@domain.extension)\n",
    "\n",
    "        * username\n",
    "            * Length of username : [6,15]\n",
    "            * No special characters other than \"_\" and \".\"\n",
    "            * Should not begin and end with \"_\" or \".\"\n",
    "            * Character Set : all digits and lowercase alphabet\n",
    "        * domain\n",
    "            * Length of domain : [3,18]\n",
    "                * No special characters\n",
    "                * Character Set : lowercase alphabets and all digits\n",
    "        * extension\n",
    "            * Length of extension : [2,4]\n",
    "                * No special characters\n",
    "                * Character Set : only lowercase alphabets\n",
    "                \n",
    "* Regular Expression for Email Validation:\n",
    "    ^[0-9a-z][0-9a-z_.]{4,13}[a-z0-9][@][a-z0-9]{3,18}[.][a-z]{2,4}|^[0-9a-z][0-9a-z_.]{4,13}[a-z0-9][@][a-z0-9]{3,18}[.][a-z][.][a-z]{2,4}\n",
    "                \n",
    "    "
   ]
  },
  {
   "cell_type": "code",
   "execution_count": 3,
   "metadata": {},
   "outputs": [
    {
     "data": {
      "text/plain": [
       "True"
      ]
     },
     "execution_count": 3,
     "metadata": {},
     "output_type": "execute_result"
    }
   ],
   "source": [
    "# Function to validate a phone number in python\n",
    "\n",
    "import re\n",
    "def phoneNumberValidator(number):\n",
    "    pattern=\"^[6-9][0-9]{9}$|^[0][6-9][0-9]{9}$|^[+][9][1][6-9][0-9]{9}$\"\n",
    "    if re.match(pattern,str(number)):\n",
    "        #print(\"Valid Number\")\n",
    "        return True\n",
    "   # else:\n",
    "    #    print(\"Invalid Numeber\")\n",
    "    return False\n",
    "\n",
    "#phoneNumberValidator(9030646324)\n",
    "    "
   ]
  },
  {
   "cell_type": "code",
   "execution_count": 2,
   "metadata": {},
   "outputs": [
    {
     "data": {
      "text/plain": [
       "True"
      ]
     },
     "execution_count": 2,
     "metadata": {},
     "output_type": "execute_result"
    }
   ],
   "source": [
    "import re\n",
    "def emailValidator(email):\n",
    "    patte='^[0-9a-z][0-9a-z_.]{4,13}[a-z0-9][@][a-z0-9]{3,18}[.][a-z]{2,4}|^[0-9a-z][0-9a-z_.]{4,13}[a-z0-9][@][a-z0-9]{3,18}[.][a-z][.][a-z]{2,4}'\n",
    "    if re.match(patte,str(email)):\n",
    "        return True\n",
    "    return False\n",
    "\n",
    "#emailValidator('venkatesh.u@apssdc.in')"
   ]
  },
  {
   "cell_type": "code",
   "execution_count": 40,
   "metadata": {},
   "outputs": [],
   "source": [
    "contacts={\"name3\":[9876543210,'name@domain.exy']}\n",
    "\n",
    "def addContact(name,phone,email):\n",
    "    if name in contacts:\n",
    "        print(\"Name is already exists\")\n",
    "    else:\n",
    "        if not phoneNumberValidator(phone):\n",
    "            print(\"Invalid Phone Number\")\n",
    "            return\n",
    "        if not emailValidator(email):\n",
    "            print(\"Invalid Email Address\")\n",
    "            return\n",
    "        newcontact=[]\n",
    "        newcontact.append(phone)\n",
    "        newcontact.append(email)\n",
    "        contacts[name]=newcontact\n",
    "        \n",
    "addContact(\"uvenk\",9876567890,\"venkatesh.u@apssdc.in\")\n",
    "#contacts"
   ]
  },
  {
   "cell_type": "code",
   "execution_count": 46,
   "metadata": {},
   "outputs": [
    {
     "name": "stdout",
     "output_type": "stream",
     "text": [
      "Name  : uvenk\n",
      "Mobile: 9876567890\n",
      "Email : venkatesh.u@apssdc.in\n"
     ]
    }
   ],
   "source": [
    "def searchContacts(name):\n",
    "    if name in contacts:\n",
    "        print(\"Name  :\",name)\n",
    "        print(\"Mobile:\",contacts[name][0])\n",
    "        print(\"Email :\" , contacts[name][1])\n",
    "    else:\n",
    "        print(\"Name doesn't exist\")\n",
    "    return\n",
    "\n",
    "searchContacts(\"uvenk\")\n"
   ]
  },
  {
   "cell_type": "code",
   "execution_count": 57,
   "metadata": {},
   "outputs": [
    {
     "name": "stdout",
     "output_type": "stream",
     "text": [
      "name3 : 9876543210 and name@domain.exy\n",
      "uvenk : 9876567890 and venkatesh.u@apssdc.in\n",
      "satish : 88484 and satish@gmail.com\n",
      "pj : 382423 and prasanna@gmail.com\n",
      "Hanumans Sai : 999999999 and hanuman@gmail.com\n"
     ]
    }
   ],
   "source": [
    "def listAllContacts():\n",
    "    for x,y in contacts.items():\n",
    "        print(x,\":\",y[0],\"and\",y[1])\n",
    "    return\n",
    "\n",
    "listAllContacts()"
   ]
  },
  {
   "cell_type": "code",
   "execution_count": 59,
   "metadata": {},
   "outputs": [
    {
     "name": "stdout",
     "output_type": "stream",
     "text": [
      "Contact is not present\n"
     ]
    }
   ],
   "source": [
    "def modifyContact(name,number,email):\n",
    "    if name in contacts:\n",
    "        contacts.update({name:[number,email]})\n",
    "    else:\n",
    "        print(\"Contact is not present\")\n",
    "    #print(contacts)\n",
    "    \n",
    "modifyContact(\"venkatesh Sai\",999999999,\"hanuman@gmail.com\")"
   ]
  },
  {
   "cell_type": "code",
   "execution_count": 48,
   "metadata": {},
   "outputs": [
    {
     "name": "stdout",
     "output_type": "stream",
     "text": [
      "{'name3': [9876543210, 'name@domain.exy'], 'uvenk': [9876567890, 'venkatesh.u@apssdc.in'], 'satish': [88484, 'satish@gmail.com'], 'pj': [382423, 'prasanna@gmail.com']}\n"
     ]
    }
   ],
   "source": [
    "\n",
    "def importContacts(newContacts):\n",
    "    contacts.update(newContacts)\n",
    "    print(contacts)\n",
    "    return\n",
    "\n",
    "newContacts={\"satish\":[88484,\"satish@gmail.com\"],\"pj\":[382423,\"prasanna@gmail.com\"]}\n",
    "importContacts(newContacts)"
   ]
  },
  {
   "cell_type": "code",
   "execution_count": null,
   "metadata": {},
   "outputs": [],
   "source": []
  },
  {
   "cell_type": "code",
   "execution_count": null,
   "metadata": {},
   "outputs": [],
   "source": []
  },
  {
   "cell_type": "markdown",
   "metadata": {},
   "source": [
    "# File Handling in Python\n",
    "\n",
    "* File is a document containing information residing on local machine or cloud storage\n",
    "* File Type - Text, PDF, CSV, Image Files, Markup Related Files etc\n",
    "* File I/O - Channeling I/O data to files\n",
    "* Default Input and Output channel for any IDE is Keyboard and Monitor/Screen\n",
    "* Change I/O channel to files for Reading and Writing into files\n",
    "* Reading a File is nothing but getting input from the file \n",
    "* Write a file represent Output to a file\n",
    "* To read and write a file first you have to open the file\n",
    "    * open(filename,mode)"
   ]
  },
  {
   "cell_type": "code",
   "execution_count": 73,
   "metadata": {},
   "outputs": [
    {
     "name": "stdout",
     "output_type": "stream",
     "text": [
      "Line1\n",
      "Line2\n",
      "Line3"
     ]
    }
   ],
   "source": [
    "# Function to read a file\n",
    "\n",
    "def readFile(filename):\n",
    "    f=open(filename,'r')\n",
    "    filedata=f.read()\n",
    "    f.close()\n",
    "    return filedata\n",
    "\n",
    "filename='DataFiles/data.txt'\n",
    "filedata=readFile(filename)\n",
    "#for line in filedata.split('\\n'):\n",
    "#    print(line)\n",
    "    \n",
    "    \n",
    "    \n",
    "def printFileDataLines():\n",
    "    f=open(filename,'r')\n",
    "    for line in f:\n",
    "        print(line,end='')\n",
    "    f.close()\n",
    "    return\n",
    "\n",
    "printFileDataLines()\n",
    "#print(readFile(filename))"
   ]
  },
  {
   "cell_type": "code",
   "execution_count": 85,
   "metadata": {},
   "outputs": [
    {
     "name": "stdout",
     "output_type": "stream",
     "text": [
      "New Data\n",
      "This is newly added data\n",
      "This is newly added data\n",
      " This is newly added data"
     ]
    }
   ],
   "source": [
    "def printFileDataLines():\n",
    "    with open(filename,'r') as f:\n",
    "        for line in f:\n",
    "            print(line,end='')\n",
    "    #f.close()\n",
    "    return\n",
    "\n",
    "printFileDataLines()"
   ]
  },
  {
   "cell_type": "code",
   "execution_count": 75,
   "metadata": {},
   "outputs": [],
   "source": [
    "# Function to write data into a file\n",
    "\n",
    "def writeIntoFile(filename,filedata):\n",
    "    with open(filename,'w') as f:\n",
    "        f.write(filedata)\n",
    "    return\n",
    "\n",
    "filename='DataFiles/data.txt'\n",
    "writeIntoFile(filename,\"New Data\")"
   ]
  },
  {
   "cell_type": "code",
   "execution_count": 82,
   "metadata": {},
   "outputs": [],
   "source": [
    "def appendDataToFile(filename,filedata):\n",
    "    with open(filename,'a') as f:\n",
    "        f.write(filedata)\n",
    "    return\n",
    "\n",
    "filename=\"DataFiles/data.txt\"\n",
    "appendDataToFile(filename,\"\\n This is newly added data\")"
   ]
  },
  {
   "cell_type": "code",
   "execution_count": 88,
   "metadata": {},
   "outputs": [],
   "source": [
    "def appendListDataToFile(filename,filedata):\n",
    "    with open(filename,'a') as f:\n",
    "        for line in filedata:\n",
    "            f.write(line)\n",
    "    return\n",
    "\n",
    "filename=\"DataFiles/data.txt\"\n",
    "filedata=[\"Line4\",\"Line5\"]\n",
    "appendDataToFile(filename,filedata)"
   ]
  },
  {
   "cell_type": "code",
   "execution_count": 17,
   "metadata": {},
   "outputs": [],
   "source": [
    "from Packages import validators\n",
    "contacts1={}\n",
    "\n",
    "def addContact(name,phone,email):\n",
    "    if name in contacts1:\n",
    "        print(\"Name is already exists\")\n",
    "    else:\n",
    "        if not phoneNumberValidator(phone):\n",
    "            print(\"Invalid Phone Number\")\n",
    "            return\n",
    "        if not emailValidator(email):\n",
    "            print(\"Invalid Email Address\")\n",
    "            return\n",
    "        newcontact=[]\n",
    "        newcontact.append(phone)\n",
    "        newcontact.append(email)\n",
    "        contacts1[name]=newcontact\n",
    "        filedata=str(name)+\":\"+str(contacts1[name][0])+\":\"+str(contacts1[name][1])\n",
    "        filename='DataFiles/contacts.txt'\n",
    "        writeIntoFile(filename,filedata)\n",
    "addContact(\"uvenk\",9876567890,\"venkatesh.u@apssdc.in\")\n",
    "#contacts"
   ]
  },
  {
   "cell_type": "code",
   "execution_count": 6,
   "metadata": {},
   "outputs": [],
   "source": [
    "def writeIntoFile(filename,filedata):\n",
    "    with open(filename,'w') as f:\n",
    "        f.write(filedata)\n",
    "    return\n",
    "\n",
    "#filename='DataFiles/data.txt'\n",
    "#writeIntoFile(filename,\"New Data\")"
   ]
  },
  {
   "cell_type": "code",
   "execution_count": null,
   "metadata": {},
   "outputs": [],
   "source": []
  }
 ],
 "metadata": {
  "kernelspec": {
   "display_name": "Python 3",
   "language": "python",
   "name": "python3"
  },
  "language_info": {
   "codemirror_mode": {
    "name": "ipython",
    "version": 3
   },
   "file_extension": ".py",
   "mimetype": "text/x-python",
   "name": "python",
   "nbconvert_exporter": "python",
   "pygments_lexer": "ipython3",
   "version": "3.7.3"
  }
 },
 "nbformat": 4,
 "nbformat_minor": 2
}
