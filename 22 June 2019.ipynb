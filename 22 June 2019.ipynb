{
 "cells": [
  {
   "cell_type": "markdown",
   "metadata": {},
   "source": [
    "## File Handling\n",
    "\n",
    "* Basic File Data Processing\n",
    "    * Accessing and Modifying File Data\n",
    "* Character Count\n",
    "* Line Count\n",
    "* File Size\n",
    "* Word Count\n",
    "* Unique Word Count\n",
    "\n",
    "#### Read a File -File should exist\n",
    "#### Write to a File - Existing or New File"
   ]
  },
  {
   "cell_type": "code",
   "execution_count": null,
   "metadata": {},
   "outputs": [],
   "source": []
  },
  {
   "cell_type": "code",
   "execution_count": 93,
   "metadata": {},
   "outputs": [
    {
     "name": "stdout",
     "output_type": "stream",
     "text": [
      "contact added successfully\n"
     ]
    }
   ],
   "source": [
    "\"\"\"from Packages.validators import phoneNumberValidator,emailValidator\n",
    "import re\"\"\"\n",
    "\n",
    "def addContacts(name,phone,email):\n",
    "    filename=\"DataFiles/contacts.txt\"\n",
    "    if not checkContactExists(name):\n",
    "        if(phoneNumberValidator(phone))and (emailValidator(email)):\n",
    "            with open(filename,'a') as f:\n",
    "                line='\\n'+name+\",\"+ str(phone)+\",\"+email\n",
    "                f.write(line)\n",
    "            print(\"contact added successfully\")\n",
    "    else:\n",
    "        print(\"contact already exists\")\n",
    "    return\n",
    "\n",
    "addContacts(\"saral\",6876543210,'venky.apssdc@gmail.com')"
   ]
  },
  {
   "cell_type": "code",
   "execution_count": null,
   "metadata": {},
   "outputs": [],
   "source": []
  },
  {
   "cell_type": "code",
   "execution_count": 27,
   "metadata": {},
   "outputs": [],
   "source": [
    "import re\n",
    "\n",
    "def emailValidator(email):\n",
    "    patte='^[0-9a-z][0-9a-z_.]{4,13}[a-z0-9][@][a-z0-9]{3,18}[.][a-z]{2,4}|^[0-9a-z][0-9a-z_.]{4,13}[a-z0-9][@][a-z0-9]{3,18}[.][a-z][.][a-z]{2,4}'\n",
    "    if re.match(patte,str(email)):\n",
    "        return True\n",
    "    return False\n",
    "\n",
    "\n",
    "def phoneNumberValidator(number):\n",
    "    pattern=\"^[6-9][0-9]{9}$|^[0][6-9][0-9]{9}$|^[+][9][1][6-9][0-9]{9}$\"\n",
    "    if re.match(pattern,str(number)):\n",
    "        #print(\"Valid Number\")\n",
    "        return True\n",
    "   # else:\n",
    "    #    print(\"Invalid Numeber\")\n",
    "    return False\n"
   ]
  },
  {
   "cell_type": "code",
   "execution_count": 28,
   "metadata": {},
   "outputs": [
    {
     "data": {
      "text/plain": [
       "True"
      ]
     },
     "execution_count": 28,
     "metadata": {},
     "output_type": "execute_result"
    }
   ],
   "source": [
    "phoneNumberValidator(9876543210)"
   ]
  },
  {
   "cell_type": "code",
   "execution_count": 52,
   "metadata": {},
   "outputs": [
    {
     "name": "stdout",
     "output_type": "stream",
     "text": [
      "True\n"
     ]
    }
   ],
   "source": [
    "import re\n",
    "\n",
    "def checkContactExists(name):\n",
    "    with open(filename,'r') as f:\n",
    "        filedata=f.read()\n",
    "        pattern='name+'\n",
    "    return re.search(name,filedata)\n",
    "\n",
    "if checkContactExists(\"gmail\"):\n",
    "    print(True)\n",
    "else:\n",
    "    print(False)"
   ]
  },
  {
   "cell_type": "code",
   "execution_count": 71,
   "metadata": {},
   "outputs": [
    {
     "name": "stdout",
     "output_type": "stream",
     "text": [
      "True\n"
     ]
    }
   ],
   "source": [
    "import re\n",
    "def checkContactExists(name):\n",
    "    filename=\"DataFiles/contacts.txt\"\n",
    "    with open(filename,'r') as f:\n",
    "        filedata=f.read()\n",
    "        pattern=name+','\n",
    "    return re.search(name,filedata)\n",
    "\n",
    "if (checkContactExists(\"uv\")):\n",
    "    print(True)\n",
    "else:\n",
    "    print(False)\n"
   ]
  },
  {
   "cell_type": "code",
   "execution_count": 165,
   "metadata": {},
   "outputs": [
    {
     "name": "stdout",
     "output_type": "stream",
     "text": [
      "[['sai', '6876543210', 'sai.apssdc@gmail.com\\n'], ['uv', '6876543210', 'uv.apssdc@gmail.com\\n'], ['saral', '6876543210', 'saral.apssdc@gmail.com']]\n",
      "sai\n",
      "uv\n",
      "saral\n"
     ]
    }
   ],
   "source": [
    "lis=[]\n",
    "\n",
    "def readAllContacts():\n",
    "    with open(filename,'r') as f:\n",
    "        for i in f:\n",
    "            lis.append(i.split(','))\n",
    "        print(lis)\n",
    "        print(lis[0][0])\n",
    "        print(lis[1][0])\n",
    "        print(lis[2][0])\n",
    "        print(lis[0][1])\n",
    "            \n",
    "    return \n",
    "\n",
    "\n",
    "newlis=[]\n",
    "\"\"\"def splitListInto(lis):\n",
    "    for i in range(0,len(lis),1):\n",
    "        newlis.append(lis[i][i])\n",
    "    print(newlis)\n",
    "    return\"\"\"\n",
    "\n",
    "readAllContacts()\n",
    "#print(lis)\n",
    "#splitListInto(lis)\n",
    "\n",
    "#def listAllContacts():\n",
    "    "
   ]
  },
  {
   "cell_type": "code",
   "execution_count": 102,
   "metadata": {},
   "outputs": [
    {
     "data": {
      "text/plain": [
       "3"
      ]
     },
     "execution_count": 102,
     "metadata": {},
     "output_type": "execute_result"
    }
   ],
   "source": [
    "l=[1,[2,3,4]]\n",
    "l[1][1]"
   ]
  },
  {
   "cell_type": "code",
   "execution_count": 191,
   "metadata": {},
   "outputs": [
    {
     "name": "stdout",
     "output_type": "stream",
     "text": [
      "12.3 GB\n"
     ]
    }
   ],
   "source": [
    "import os\n",
    "#b=os.path.getsize(\"13 June 2019.ipynb\")\n",
    "b=12300000000\n",
    "if b<1000:\n",
    "    print(b,\"Bytes\")\n",
    "elif b>1000 and b<1000000 :\n",
    "    a=(b/1000)\n",
    "    print(a,\"KB\")\n",
    "elif b>=1000000 and b<1000000000:\n",
    "    print((b/1000000),\"MB\")\n",
    "else:\n",
    "    print((b/1000000000),\"GB\")\n",
    "#print(b)"
   ]
  },
  {
   "cell_type": "code",
   "execution_count": null,
   "metadata": {},
   "outputs": [],
   "source": []
  }
 ],
 "metadata": {
  "kernelspec": {
   "display_name": "Python 3",
   "language": "python",
   "name": "python3"
  },
  "language_info": {
   "codemirror_mode": {
    "name": "ipython",
    "version": 3
   },
   "file_extension": ".py",
   "mimetype": "text/x-python",
   "name": "python",
   "nbconvert_exporter": "python",
   "pygments_lexer": "ipython3",
   "version": "3.7.3"
  }
 },
 "nbformat": 4,
 "nbformat_minor": 2
}
