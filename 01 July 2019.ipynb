{
 "cells": [
  {
   "cell_type": "code",
   "execution_count": null,
   "metadata": {},
   "outputs": [],
   "source": []
  },
  {
   "cell_type": "code",
   "execution_count": 5,
   "metadata": {},
   "outputs": [
    {
     "data": {
      "text/html": [
       "<div>\n",
       "<style scoped>\n",
       "    .dataframe tbody tr th:only-of-type {\n",
       "        vertical-align: middle;\n",
       "    }\n",
       "\n",
       "    .dataframe tbody tr th {\n",
       "        vertical-align: top;\n",
       "    }\n",
       "\n",
       "    .dataframe thead th {\n",
       "        text-align: right;\n",
       "    }\n",
       "</style>\n",
       "<table border=\"1\" class=\"dataframe\">\n",
       "  <thead>\n",
       "    <tr style=\"text-align: right;\">\n",
       "      <th></th>\n",
       "      <th>GEOID</th>\n",
       "      <th>State</th>\n",
       "      <th>2005</th>\n",
       "      <th>2006</th>\n",
       "      <th>2007</th>\n",
       "      <th>2008</th>\n",
       "      <th>2009</th>\n",
       "      <th>2010</th>\n",
       "      <th>2011</th>\n",
       "      <th>2012</th>\n",
       "      <th>2013</th>\n",
       "    </tr>\n",
       "  </thead>\n",
       "  <tbody>\n",
       "    <tr>\n",
       "      <th>0</th>\n",
       "      <td>04000US01</td>\n",
       "      <td>Alabama</td>\n",
       "      <td>37150</td>\n",
       "      <td>37952</td>\n",
       "      <td>42212</td>\n",
       "      <td>44476</td>\n",
       "      <td>39980</td>\n",
       "      <td>40933</td>\n",
       "      <td>42590</td>\n",
       "      <td>43464</td>\n",
       "      <td>41381</td>\n",
       "    </tr>\n",
       "    <tr>\n",
       "      <th>1</th>\n",
       "      <td>04000US02</td>\n",
       "      <td>Alaska</td>\n",
       "      <td>55891</td>\n",
       "      <td>56418</td>\n",
       "      <td>62993</td>\n",
       "      <td>63989</td>\n",
       "      <td>61604</td>\n",
       "      <td>57848</td>\n",
       "      <td>57431</td>\n",
       "      <td>63648</td>\n",
       "      <td>61137</td>\n",
       "    </tr>\n",
       "    <tr>\n",
       "      <th>2</th>\n",
       "      <td>04000US04</td>\n",
       "      <td>Arizona</td>\n",
       "      <td>45245</td>\n",
       "      <td>46657</td>\n",
       "      <td>47215</td>\n",
       "      <td>46914</td>\n",
       "      <td>45739</td>\n",
       "      <td>46896</td>\n",
       "      <td>48621</td>\n",
       "      <td>47044</td>\n",
       "      <td>50602</td>\n",
       "    </tr>\n",
       "    <tr>\n",
       "      <th>3</th>\n",
       "      <td>04000US05</td>\n",
       "      <td>Arkansas</td>\n",
       "      <td>36658</td>\n",
       "      <td>37057</td>\n",
       "      <td>40795</td>\n",
       "      <td>39586</td>\n",
       "      <td>36538</td>\n",
       "      <td>38587</td>\n",
       "      <td>41302</td>\n",
       "      <td>39018</td>\n",
       "      <td>39919</td>\n",
       "    </tr>\n",
       "    <tr>\n",
       "      <th>4</th>\n",
       "      <td>04000US06</td>\n",
       "      <td>California</td>\n",
       "      <td>51755</td>\n",
       "      <td>55319</td>\n",
       "      <td>55734</td>\n",
       "      <td>57014</td>\n",
       "      <td>56134</td>\n",
       "      <td>54283</td>\n",
       "      <td>53367</td>\n",
       "      <td>57020</td>\n",
       "      <td>57528</td>\n",
       "    </tr>\n",
       "  </tbody>\n",
       "</table>\n",
       "</div>"
      ],
      "text/plain": [
       "       GEOID       State   2005   2006   2007   2008   2009   2010   2011  \\\n",
       "0  04000US01     Alabama  37150  37952  42212  44476  39980  40933  42590   \n",
       "1  04000US02      Alaska  55891  56418  62993  63989  61604  57848  57431   \n",
       "2  04000US04     Arizona  45245  46657  47215  46914  45739  46896  48621   \n",
       "3  04000US05    Arkansas  36658  37057  40795  39586  36538  38587  41302   \n",
       "4  04000US06  California  51755  55319  55734  57014  56134  54283  53367   \n",
       "\n",
       "    2012   2013  \n",
       "0  43464  41381  \n",
       "1  63648  61137  \n",
       "2  47044  50602  \n",
       "3  39018  39919  \n",
       "4  57020  57528  "
      ]
     },
     "execution_count": 5,
     "metadata": {},
     "output_type": "execute_result"
    }
   ],
   "source": [
    "filepath='DataFiles/income.csv'\n",
    "import pandas as pd\n",
    "\n",
    "def readAllData():\n",
    "    with open(filepath,'r') as f:\n",
    "        incomedf=pd.read_csv(filepath)\n",
    "    return incomedf\n",
    "readAllData()"
   ]
  },
  {
   "cell_type": "code",
   "execution_count": 4,
   "metadata": {},
   "outputs": [
    {
     "data": {
      "text/plain": [
       "48525"
      ]
     },
     "execution_count": 4,
     "metadata": {},
     "output_type": "execute_result"
    }
   ],
   "source": [
    "filepath='DataFiles/income.csv'\n",
    "import pandas as pd\n",
    "\n",
    "def readAllData():\n",
    "    with open(filepath,'r') as f:\n",
    "        incomedf=pd.read_csv(filepath)\n",
    "    return incomedf\n",
    "\n",
    "def avgIncome():\n",
    "    lis=[]\n",
    "    datadf=readAllData()\n",
    "    for i in range(2,11):\n",
    "        for j in range(0,5):\n",
    "            lis.append(datadf.values[j][i])\n",
    "    #print(lis)\n",
    "    avg=sum(lis)//len(lis)\n",
    "    return avg\n",
    "\n",
    "avgIncome()"
   ]
  },
  {
   "cell_type": "code",
   "execution_count": 16,
   "metadata": {},
   "outputs": [
    {
     "name": "stdout",
     "output_type": "stream",
     "text": [
      "[array([42590, 43464, 41381], dtype=object), array([57431, 63648, 61137], dtype=object), array([48621, 47044, 50602], dtype=object), array([41302, 39018, 39919], dtype=object), array([53367, 57020, 57528], dtype=object)]\n",
      "Alaska is the highest average income in last 3 years with the amount of 36443.2\n"
     ]
    }
   ],
   "source": [
    "def stateWithHighestIncome():\n",
    "    incomedf=readAllData()\n",
    "    li=[]\n",
    "    li2=[]\n",
    "    countries=[]\n",
    "    for i in incomedf.values:\n",
    "        countries.append(i[1])\n",
    "        li.append(i[-3:])\n",
    "    print(li)\n",
    "    for i in range(5):\n",
    "        li2.append(sum(li[i])/len(li))\n",
    "    lin=li2.index(max(li2))\n",
    "    print(countries[lin],\"is the highest average income in last 3 years with the amount of\",max(li2))\n",
    "    #return incomedf\n",
    "stateWithHighestIncome()"
   ]
  },
  {
   "cell_type": "code",
   "execution_count": 55,
   "metadata": {},
   "outputs": [
    {
     "name": "stdout",
     "output_type": "stream",
     "text": [
      "Arkansas 38973.0\n"
     ]
    }
   ],
   "source": [
    "# State with lowest avg income from 2007 to 2010(inclusive)\n",
    "# Answer = Arkansas\n",
    "def colstate(incomedf,statename):\n",
    "    x = incomedf[statename].unique()\n",
    "    return x\n",
    "incomedf=readAllData()\n",
    "def findStateIndex(year1,year2):\n",
    "    lis=[]\n",
    "    for column in incomedf.columns:\n",
    "        lis.append(column)\n",
    "    startYear=lis.index(year1)\n",
    "    endYear=lis.index(year2)\n",
    "    #print(startYear,endYear)\n",
    "    return startYear,endYear\n",
    "\n",
    "def findLowAvgIncome(year1,year2):\n",
    "    income=[]\n",
    "    lowestIncome={}\n",
    "    \n",
    "    for i in incomedf.values:\n",
    "        income.append(i[year1:year2])\n",
    "        \n",
    "    for i in range(len(incomedf.values)):\n",
    "        #lowestIncome.append(sum(income[i]/len(income[i])))\n",
    "        lowestIncome[incomedf.values[i][1]]=sum(income[i]/len(income[i]))\n",
    "        \n",
    "#     print(lowestIncome)\n",
    "#     print(min(lowestIncome.values()))\n",
    "      \n",
    "    print(list(lowestIncome.keys())[list(lowestIncome.values()).index(min(lowestIncome.values()))],min(lowestIncome.values()))\n",
    "        \n",
    "startyear,endyear=findStateIndex('2007','2010')\n",
    "findLowAvgIncome(startyear,endyear)\n",
    "#colstate(incomedf,'State')"
   ]
  },
  {
   "cell_type": "code",
   "execution_count": 3,
   "metadata": {},
   "outputs": [],
   "source": [
    "# Print the list of all states in the same line with average income less than California\n",
    "# Answer = Arizona Alabama Arkansas"
   ]
  },
  {
   "cell_type": "code",
   "execution_count": null,
   "metadata": {},
   "outputs": [],
   "source": [
    "# Print the names of states based on descending order of incoem in the year 2009\n",
    "# Answer= Alaska California  Arizona Alabama Arkansas"
   ]
  },
  {
   "cell_type": "code",
   "execution_count": null,
   "metadata": {},
   "outputs": [],
   "source": [
    "# State with lowest recorded income from 2005 to 2013\n",
    "# Answer = Arkansas"
   ]
  },
  {
   "cell_type": "code",
   "execution_count": 40,
   "metadata": {},
   "outputs": [
    {
     "data": {
      "text/plain": [
       "'Alaska'"
      ]
     },
     "execution_count": 40,
     "metadata": {},
     "output_type": "execute_result"
    }
   ],
   "source": [
    "incomedf=readAllData()\n",
    "incomedf.values[1][1]"
   ]
  },
  {
   "cell_type": "code",
   "execution_count": 51,
   "metadata": {},
   "outputs": [
    {
     "name": "stdout",
     "output_type": "stream",
     "text": [
      "george\n"
     ]
    }
   ],
   "source": [
    "mydict = {'george':16,'amber':19}\n",
    "print(list(mydict.keys())[list(mydict.values()).index(16)]) # Prints george"
   ]
  },
  {
   "cell_type": "code",
   "execution_count": null,
   "metadata": {},
   "outputs": [],
   "source": []
  }
 ],
 "metadata": {
  "kernelspec": {
   "display_name": "Python 3",
   "language": "python",
   "name": "python3"
  },
  "language_info": {
   "codemirror_mode": {
    "name": "ipython",
    "version": 3
   },
   "file_extension": ".py",
   "mimetype": "text/x-python",
   "name": "python",
   "nbconvert_exporter": "python",
   "pygments_lexer": "ipython3",
   "version": "3.7.3"
  }
 },
 "nbformat": 4,
 "nbformat_minor": 2
}
