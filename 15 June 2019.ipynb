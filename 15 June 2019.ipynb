{
 "cells": [
  {
   "cell_type": "code",
   "execution_count": null,
   "metadata": {},
   "outputs": [],
   "source": [
    "n=int(input())\n",
    "s=input()\n",
    "s=s.split()\n",
    "li=[]\n",
    "ni=[]\n",
    "for i in s:\n",
    "    ni.append(i)\n",
    "    li.append(abs(int(i)))\n",
    "   \n",
    "if '-1' in s:\n",
    "    if '1' in s:\n",
    "         1\n",
    "else:\n",
    "    avg=li.index(min(li))\n",
    "    print(avg)"
   ]
  },
  {
   "cell_type": "markdown",
   "metadata": {},
   "source": [
    "def largestNumber(a,b,c):\n"
   ]
  },
  {
   "cell_type": "code",
   "execution_count": null,
   "metadata": {},
   "outputs": [],
   "source": [
    "def largestNumber(a,b,c):\n",
    "    for i in range(c,a,-1):\n",
    "        if i%a==b:\n",
    "            return i\n",
    "    return -1\n",
    "        \n",
    "largestNumber(3,2,100)"
   ]
  },
  {
   "cell_type": "code",
   "execution_count": null,
   "metadata": {},
   "outputs": [],
   "source": [
    "def countDivisors(lower,upper,divisor):\n",
    "    count=0\n",
    "    for i in range(lower,upper+1,1):\n",
    "        if i%divisor==0:\n",
    "            count=count+1\n",
    "    print(count)\n",
    "            \n",
    "    \n",
    "num=input()\n",
    "num=num.split()\n",
    "lower=int(num[0])\n",
    "higher=int(num[1])\n",
    "divisor=int(num[2])\n",
    "\n",
    "countDivisors(lower,higher,divisor)"
   ]
  },
  {
   "cell_type": "code",
   "execution_count": null,
   "metadata": {},
   "outputs": [],
   "source": [
    "def Factorial(num):\n",
    "    fact=1\n",
    "    for i in range(1,num+1):\n",
    "        fact=fact*i\n",
    "    return fact\n",
    "\n",
    "Factorial(5)"
   ]
  },
  {
   "cell_type": "code",
   "execution_count": null,
   "metadata": {},
   "outputs": [],
   "source": [
    "def ToggleString(str):\n",
    "    str2=\"\"\n",
    "    for i in str:\n",
    "        if i.isupper():\n",
    "            str2= i.lower()\n",
    "            print(str2,end=\"\")\n",
    "        else:\n",
    "            str2=i.upper()\n",
    "            print(str2,end=\"\")\n",
    "            \n",
    "ToggleString(\"MynameIs\")\n"
   ]
  },
  {
   "cell_type": "code",
   "execution_count": null,
   "metadata": {},
   "outputs": [],
   "source": [
    "def pal(str):\n",
    "    for i in str:\n",
    "        rev=str[::-1]\n",
    "    if rev==str:\n",
    "        print(\"YES\")\n",
    "    else:\n",
    "        print(\"NO\")\n",
    "\n",
    "name=input()\n",
    "pal(name)"
   ]
  },
  {
   "cell_type": "code",
   "execution_count": null,
   "metadata": {},
   "outputs": [],
   "source": [
    "lowercase=['a','b','c','d','e','f','g','h','i','j','k','l','m','n','o','p','q','r','s','t','u','v','w','x','y','z']\n",
    "uppercase=['A','B','C','D','E','F','G','H','I','J','K','L','M','N','O','P','Q','R','S','T','U','V','W','X','Y','Z']\n",
    "\n",
    "def lowerToUpper(str):\n",
    "    for i in str:\n",
    "        if i in str:\n",
    "            ch=str.index(i)\n",
    "            strin=lowercase[ch]\n",
    "        else:\n",
    "            ch=str.index[i]\n",
    "            strin=uppercase[ch]\n",
    "    print(strin)\n",
    "    \n",
    "lowerToUpper(\"MynaMe Is VenkaTesH\")\n",
    "#lowercase"
   ]
  },
  {
   "cell_type": "code",
   "execution_count": null,
   "metadata": {},
   "outputs": [],
   "source": [
    "#lowercase=['a','b','c','d','e','f','g','h','i','j','k','l','m','n','o','p','q','r','s','t','u','v','w','x','y','z']\n",
    "#uppercase=['A','B','C','D','E','F','G','H','I','J','K','L','M','N','O','P','Q','R','S','T','U','V','W','X','Y','Z']\n",
    "\n",
    "lowercase=\"abcdefghijklmnopqrstuvwxyz\"\n",
    "uppercase=\"ABCDEFGHIJKLMNOPQRSTUVWXYZ\"\n",
    "def lowerToUpper(str):\n",
    "    for i in str:\n",
    "        if i in uppercase:\n",
    "            vale=uppercase.find(i)\n",
    "            strin=lowercase[vale]\n",
    "            #print(lowercase[vale])\n",
    "            print(strin,end=\"\")\n",
    "        if i in lowercase:\n",
    "            vale=lowercase.find(i)\n",
    "            strin=uppercase[vale]\n",
    "            print(strin,end=\"\")\n",
    "    \n",
    "lowerToUpper(\"MynaMe Is VenkaTesH\")"
   ]
  },
  {
   "cell_type": "code",
   "execution_count": null,
   "metadata": {},
   "outputs": [],
   "source": [
    "characters=\"abcdefghijklmnopqrstuvwxyz\"\n",
    "def charsum(str):\n",
    "    sum=0\n",
    "    for i in str:\n",
    "        if i in characters:\n",
    "            vale=characters.find(i)+1\n",
    "            #print(i)\n",
    "            print(vale)\n",
    "            sum=sum+vale\n",
    "    print(sum)\n",
    "    \n",
    "charsum('aba')\n",
    "            \n",
    "        "
   ]
  },
  {
   "cell_type": "code",
   "execution_count": null,
   "metadata": {},
   "outputs": [],
   "source": [
    "def isPrime(number):\n",
    "    count=0\n",
    "    for i in range(1,number+1):\n",
    "        if number%i==0 :\n",
    "            count=count+1\n",
    "    #print(count)\n",
    "    if count==2:\n",
    "        return i\n",
    "    else:\n",
    "        #print(i, \" is not a prime number\")\n",
    "        return\n",
    "            \n",
    "isPrime(7)"
   ]
  },
  {
   "cell_type": "code",
   "execution_count": null,
   "metadata": {},
   "outputs": [],
   "source": [
    "def printPrime(n):\n",
    "    for i in range(1,n+1):\n",
    "        if isPrime(i):\n",
    "            print(i,end=\" \")\n",
    "            \n",
    "            \n",
    "printPrime(9)"
   ]
  },
  {
   "cell_type": "code",
   "execution_count": null,
   "metadata": {},
   "outputs": [],
   "source": [
    "from itertools import permutations \n",
    "def twoStrings(str1,str2):\n",
    "    li=[]\n",
    "    for i in str1:\n",
    "       li=permutations(str2)\n",
    "    print(li)\n",
    "twoStrings(\"sumitt\",\"mitsu\")"
   ]
  },
  {
   "cell_type": "code",
   "execution_count": null,
   "metadata": {},
   "outputs": [],
   "source": [
    "def twostring(l1,l2):\n",
    "    l1=sorted(l1)\n",
    "    l2=sorted(l2)\n",
    "    if l1==l2:\n",
    "        print(\"YES\")\n",
    "    else:\n",
    "        print(\"NO\")\n",
    "    \n",
    "    \n",
    "s=int(input())\n",
    "for i in range(s):\n",
    "    s=input()\n",
    "    s=s.split()\n",
    "    twostring(s[0],s[1])\n",
    "    "
   ]
  },
  {
   "cell_type": "code",
   "execution_count": null,
   "metadata": {},
   "outputs": [],
   "source": [
    "def calculate_duration(sh,sm,eh,em):\n",
    "    em=em+60\n",
    "    minute = em - sm\n",
    "    hours = eh - sh -1\n",
    "    if (minute >=60):\n",
    "        minute = minute - 60\n",
    "        hours+=1\n",
    "    print(hours,\" \",minute)\n",
    "    \n",
    "n=int(input())\n",
    "for i in range(n):\n",
    "    s=input()\n",
    "    s=s.split()\n",
    "    sh=int(s[0])\n",
    "    sm=int(s[1])\n",
    "    eh=int(s[2])\n",
    "    em=int(s[3])\n",
    "    calculate_duration(sh,sm,eh,em)\n"
   ]
  },
  {
   "cell_type": "code",
   "execution_count": null,
   "metadata": {},
   "outputs": [],
   "source": [
    "def playWithNumbers():\n",
    "    "
   ]
  },
  {
   "cell_type": "code",
   "execution_count": null,
   "metadata": {},
   "outputs": [],
   "source": []
  }
 ],
 "metadata": {
  "kernelspec": {
   "display_name": "Python 3",
   "language": "python",
   "name": "python3"
  },
  "language_info": {
   "codemirror_mode": {
    "name": "ipython",
    "version": 3
   },
   "file_extension": ".py",
   "mimetype": "text/x-python",
   "name": "python",
   "nbconvert_exporter": "python",
   "pygments_lexer": "ipython3",
   "version": "3.7.3"
  }
 },
 "nbformat": 4,
 "nbformat_minor": 2
}
