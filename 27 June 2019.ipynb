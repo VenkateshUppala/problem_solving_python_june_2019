{
 "cells": [
  {
   "cell_type": "code",
   "execution_count": 14,
   "metadata": {},
   "outputs": [
    {
     "name": "stdout",
     "output_type": "stream",
     "text": [
      "[1, 1, 1, 1, 2, 2, 2]\n",
      "[1, 2, 8]\n"
     ]
    },
    {
     "data": {
      "text/plain": [
       "2"
      ]
     },
     "execution_count": 14,
     "metadata": {},
     "output_type": "execute_result"
    }
   ],
   "source": [
    "def kthlargest(li,k):\n",
    "    ulist={}\n",
    "    keyList=[]\n",
    "    maxfreq=0\n",
    "    for i in li:\n",
    "        if i in ulist:\n",
    "            ulist[i]+=1\n",
    "        else:\n",
    "            ulist[i]=1\n",
    "            \n",
    "    freqValues=ulist.values()\n",
    "    freqValues=sorted(freqValues)\n",
    "    print(freqValues)\n",
    "     \n",
    "    maxfreq=max(freqValues)\n",
    "    \n",
    "    for values in ulist.items():\n",
    "        if values[1]==maxfreq:\n",
    "            keyList.append(values[0])\n",
    "    print(keyList)\n",
    "            \n",
    "    return keyList[len(keyList)-k]\n",
    "\n",
    "\n",
    "\n",
    "kthlargest([1,2,3,4,2,5,8,7,1,8],2)       "
   ]
  },
  {
   "cell_type": "code",
   "execution_count": 41,
   "metadata": {},
   "outputs": [
    {
     "name": "stdout",
     "output_type": "stream",
     "text": [
      "1 2 3\n",
      "1 2 4\n",
      "1 2 5\n",
      "1 3 4\n",
      "1 3 5\n",
      "1 4 5\n",
      "2 3 4\n",
      "2 3 5\n",
      "2 4 5\n",
      "3 4 5\n"
     ]
    }
   ],
   "source": [
    "def combinations(li,k):\n",
    "    for i in range(0,len(li)-2):\n",
    "        for j in range(i+1,len(li)-1):\n",
    "            for k in range(j+1,len(li)):\n",
    "                print(li[i],li[j],li[k])\n",
    "    return\n",
    "\n",
    "combinations([1,2,3,4,5],2)"
   ]
  },
  {
   "cell_type": "code",
   "execution_count": null,
   "metadata": {},
   "outputs": [],
   "source": [
    "\"\"\"def medium(li):\n",
    "    while(True):\n",
    "        li3=[]\n",
    "        li2=differencePairs\"\"\"\n",
    "\n",
    "def differencePairs(li):\n",
    "    seperateList=li\n",
    "    uniqueList=[]\n",
    "    for i in range(len(li)-1):\n",
    "        for j in range(i+1,len(li)):\n",
    "            d=abs(li[i]-li[j])\n",
    "            if d not in seperateList:\n",
    "                uniqueList.append(d)\n",
    "    for k in uniqueList:\n",
    "        for k in li:\n",
    "            li.append(k)\n",
    "            \n",
    "    return li\n",
    "\n",
    "li=[1,9,8]\n",
    "differencePairs(li)\n",
    "    "
   ]
  },
  {
   "cell_type": "code",
   "execution_count": 28,
   "metadata": {},
   "outputs": [
    {
     "data": {
      "text/plain": [
       "[[1, 9, 8, 7, 6, 2], [1, 9, 8, 7, 6, 2, 5, 3, 4]]"
      ]
     },
     "execution_count": 28,
     "metadata": {},
     "output_type": "execute_result"
    }
   ],
   "source": [
    "def medium(li,k):\n",
    "    while(True):\n",
    "        li3 = differencePairs(li)\n",
    "        if li3[0] == li3[1]:\n",
    "            break\n",
    "    if len(li3[0]) >= k:\n",
    "        return sorted(li3[0],reverse=True)[k-1]\n",
    "    return -1\n",
    "\n",
    "# Function to identify differences of all \n",
    "#pairs of numbers and add those differences\n",
    "#to the same list.\n",
    "# It returns the updated list and original list\n",
    "\n",
    "def differencePairs(li):\n",
    "    cli = li[:]\n",
    "    newelements = []\n",
    "    \n",
    "    for i in range(len(li)-1):\n",
    "        for j in range(i+1, len(li)):\n",
    "            d = abs(li[i]-li[j])\n",
    "            if d not in li and d not in newelements:\n",
    "                newelements.append(d)\n",
    "    li.extend(newelements)\n",
    "    return [cli, li]\n",
    "li = [1,9,8,7,6,2]\n",
    "differencePairs(li)"
   ]
  },
  {
   "cell_type": "code",
   "execution_count": 3,
   "metadata": {},
   "outputs": [
    {
     "data": {
      "text/plain": [
       "[1, 3, 2, 4, 5]"
      ]
     },
     "execution_count": 3,
     "metadata": {},
     "output_type": "execute_result"
    }
   ],
   "source": [
    "# List Data referencing vs Data copy\n",
    "a = [1,2,3]\n",
    "b= [1,3,2]\n",
    "a = b.copy() # Data Copy\n",
    "\n",
    "a = b # Data Referencing\n",
    "\n",
    "b.append(4)\n",
    "a.append(5)\n",
    "b"
   ]
  },
  {
   "cell_type": "code",
   "execution_count": 2,
   "metadata": {},
   "outputs": [
    {
     "data": {
      "text/plain": [
       "[3, 8, 15, 5, 2, 1, 4, 6, 7, 9, 10, 11, 12, 13, 14]"
      ]
     },
     "execution_count": 2,
     "metadata": {},
     "output_type": "execute_result"
    }
   ],
   "source": [
    "[4,8]\n",
    "[20,40,60]\n",
    "[4,8,12,16]\n",
    "[3,6,9,12]\n",
    "# Convert the list into an\n",
    "# Arithmetic Progression\n",
    "\n",
    "[3,8,15]\n",
    "[3,8,15,5,2,1,4,6,7,9,10,11,12,13,14]\n",
    "def medium"
   ]
  },
  {
   "cell_type": "code",
   "execution_count": 30,
   "metadata": {},
   "outputs": [
    {
     "data": {
      "text/plain": [
       "[[2, 3, 6, 9, 12, 1, 4, 7, 10], [2, 3, 6, 9, 12, 1, 4, 7, 10, 5, 8, 11]]"
      ]
     },
     "execution_count": 30,
     "metadata": {},
     "output_type": "execute_result"
    }
   ],
   "source": [
    "\n",
    "\n",
    "\n",
    "\n",
    "def differencePairs(li):\n",
    "    c=li.copy()\n",
    "    newelements=[]\n",
    "    for i in range(0,len(li)-1):\n",
    "        for j in range(i+1,len(li)):\n",
    "           # print(\"(\",li[i],li[j],\")\",end=\" \" )\n",
    "            d=abs(li[i]-li[j])\n",
    "            if d not in li and d not in newelements:\n",
    "                newelements.append(d)\n",
    "    li.extend(newelements)\n",
    "    return [c,li]\n",
    "    \n",
    "\n",
    "differencePairs([2, 3, 6, 9, 12, 1, 4, 7, 10])"
   ]
  },
  {
   "cell_type": "code",
   "execution_count": 33,
   "metadata": {},
   "outputs": [
    {
     "data": {
      "text/plain": [
       "10"
      ]
     },
     "execution_count": 33,
     "metadata": {},
     "output_type": "execute_result"
    }
   ],
   "source": [
    "sorted([2, 3, 6, 9, 12, 1, 4, 7, 10],reverse=True)[2-1]"
   ]
  },
  {
   "cell_type": "markdown",
   "metadata": {},
   "source": [
    "### Set - Data Structures in Python\n",
    "\n",
    "* Represented by {}\n",
    "* Set contains only unique elements"
   ]
  },
  {
   "cell_type": "code",
   "execution_count": 79,
   "metadata": {},
   "outputs": [
    {
     "name": "stdout",
     "output_type": "stream",
     "text": [
      "8\n"
     ]
    }
   ],
   "source": [
    "a={1,2,3,4,5,5}\n",
    "a.add(9)\n",
    "a.add(11)\n",
    "\n",
    "b={7,8,9}\n",
    "c=(-6,-12,18)\n",
    "a.update(b,c) # Adding Multiple Elements\n",
    "\"\"\"for i in a:\n",
    "    print(i,end=\" \")\"\"\"\n",
    "\n",
    "a.discard(11)\n",
    "#a.remove(0)\n",
    "#print(a)\n",
    "b=sorted(a,reverse=True)\n",
    "print(b[2])"
   ]
  },
  {
   "cell_type": "code",
   "execution_count": 62,
   "metadata": {},
   "outputs": [
    {
     "data": {
      "text/plain": [
       "{-12, -6, 1, 2, 3, 4, 5, 7, 8, 9, 18}"
      ]
     },
     "execution_count": 62,
     "metadata": {},
     "output_type": "execute_result"
    }
   ],
   "source": [
    "a.discard(b)\n",
    "a"
   ]
  },
  {
   "cell_type": "code",
   "execution_count": 87,
   "metadata": {},
   "outputs": [
    {
     "data": {
      "text/plain": [
       "{6}"
      ]
     },
     "execution_count": 87,
     "metadata": {},
     "output_type": "execute_result"
    }
   ],
   "source": [
    "a={1,2,3,4,5,6}\n",
    "b={6,77,7,8,9}\n",
    "c=(-6,-12,18)\n",
    "\n",
    "a.intersection(b) # Prints all the matching valuesin both a and b sets\n",
    "a.isdisjoint(b) # finds whether elements present in a are in b and return true if no single element matches \n",
    "                    # or return false if even single element matches"
   ]
  },
  {
   "cell_type": "code",
   "execution_count": 72,
   "metadata": {},
   "outputs": [
    {
     "data": {
      "text/plain": [
       "{1, 2, 3, 4, 5, 6}"
      ]
     },
     "execution_count": 72,
     "metadata": {},
     "output_type": "execute_result"
    }
   ],
   "source": [
    "a-b # All elements of a which are not in b"
   ]
  },
  {
   "cell_type": "code",
   "execution_count": 82,
   "metadata": {},
   "outputs": [
    {
     "data": {
      "text/plain": [
       "set()"
      ]
     },
     "execution_count": 82,
     "metadata": {},
     "output_type": "execute_result"
    }
   ],
   "source": [
    "d=set() # Creates an empty set\n",
    "d"
   ]
  },
  {
   "cell_type": "code",
   "execution_count": 86,
   "metadata": {},
   "outputs": [
    {
     "data": {
      "text/plain": [
       "{1, 2, 3, 4, 6, 7, 8, 9, 54, 55, 56, 78, 677, 889}"
      ]
     },
     "execution_count": 86,
     "metadata": {},
     "output_type": "execute_result"
    }
   ],
   "source": [
    "li=[1,2,3,4,4,4,54,55,56,6,677,7,7,78,8,8,889,9]\n",
    "u=set(li)\n",
    "u"
   ]
  },
  {
   "cell_type": "markdown",
   "metadata": {},
   "source": [
    "Procedural : C\n",
    "    \n",
    "Object Oriented : Java, Python\n",
    "\n",
    "Scripting : PHP,Python,Javascript, Shell Scripting, Perl\n",
    "\n",
    "Functional : Python, Haskell, Scala\n",
    "    \n",
    "Logic : Prolog, Lisp\n"
   ]
  },
  {
   "cell_type": "markdown",
   "metadata": {},
   "source": [
    "# List Comprehensions\n"
   ]
  },
  {
   "cell_type": "code",
   "execution_count": 94,
   "metadata": {},
   "outputs": [
    {
     "name": "stdout",
     "output_type": "stream",
     "text": [
      "[1, 2, 3, 4, 5, 6, 7, 8, 9, 10]\n"
     ]
    }
   ],
   "source": [
    "# List of N Natural Number\n",
    "li=[]\n",
    "for i in range(1,10+1):\n",
    "    li.append(i)\n",
    "print(li)"
   ]
  },
  {
   "cell_type": "code",
   "execution_count": 98,
   "metadata": {},
   "outputs": [
    {
     "data": {
      "text/plain": [
       "[1, 2, 3, 4, 5, 6, 7, 8, 9, 10]"
      ]
     },
     "execution_count": 98,
     "metadata": {},
     "output_type": "execute_result"
    }
   ],
   "source": [
    "li=[i for i in range(1,11)]\n",
    "li"
   ]
  },
  {
   "cell_type": "code",
   "execution_count": 101,
   "metadata": {},
   "outputs": [
    {
     "data": {
      "text/plain": [
       "[1, 8, 27, 64, 125, 216, 343, 512, 729, 1000]"
      ]
     },
     "execution_count": 101,
     "metadata": {},
     "output_type": "execute_result"
    }
   ],
   "source": [
    "# Apply list comprehension to store the cubes of n natural numbers\n",
    "\n",
    "li=[i**3 for i in range(1,11)]\n",
    "li"
   ]
  },
  {
   "cell_type": "code",
   "execution_count": 104,
   "metadata": {},
   "outputs": [
    {
     "data": {
      "text/plain": [
       "[1, 2, 6, 24, 120, 720, 5040, 40320, 362880, 3628800]"
      ]
     },
     "execution_count": 104,
     "metadata": {},
     "output_type": "execute_result"
    }
   ],
   "source": [
    "# Function to calculate the m factorial\n",
    "def factorial(n):\n",
    "    fact=0\n",
    "    if n==0 or n==1:\n",
    "        return 1\n",
    "    return n*factorial(n-1)\n",
    "\n",
    "# Apply list comprehension to calculate factorial of n natural numbers\n",
    "\n",
    "n=10\n",
    "factorialList=[factorial(i) for i in range(1,n+1)]\n",
    "factorialList"
   ]
  },
  {
   "cell_type": "code",
   "execution_count": 16,
   "metadata": {},
   "outputs": [
    {
     "name": "stdout",
     "output_type": "stream",
     "text": [
      "[1, 3, 6, 10, 15]\n"
     ]
    }
   ],
   "source": [
    " # Store cumulative sum of numbers till n in a list\n",
    " # n=3 , [1,3,6]\n",
    "\n",
    "\n",
    "def cumulativeSum(n):\n",
    "    summ=0\n",
    "    li=[]\n",
    "    for i in range(1,n):\n",
    "        summ=summ+i\n",
    "        #print(i)\n",
    "        li.append(summ)\n",
    "    print(li)\n",
    "cumulativeSum(6)"
   ]
  },
  {
   "cell_type": "code",
   "execution_count": 29,
   "metadata": {},
   "outputs": [
    {
     "data": {
      "text/plain": [
       "[1, 3, 6, 10, 15, 21]"
      ]
     },
     "execution_count": 29,
     "metadata": {},
     "output_type": "execute_result"
    }
   ],
   "source": [
    "n=6\n",
    "cumulativeList=[sum(range(1,i+1)) for i in range(1,n+1)]\n",
    "cumulativeList"
   ]
  },
  {
   "cell_type": "code",
   "execution_count": 40,
   "metadata": {},
   "outputs": [
    {
     "data": {
      "text/plain": [
       "[1972, 1976, 1980, 1984, 1988, 1992, 1996, 2000, 2004, 2008, 2012, 2016]"
      ]
     },
     "execution_count": 40,
     "metadata": {},
     "output_type": "execute_result"
    }
   ],
   "source": [
    "def leapYears():\n",
    "    for i in range(lb,hb):\n",
    "        if (i%400)==0 or (i%100)!=0 and (i%4)==0:\n",
    "            print(i)\n",
    "            \n",
    "#leapYears(1970,2019)\n",
    "# Function to store only leap years in a given time period\n",
    "startYear=1970\n",
    "endYear=2019\n",
    "\n",
    "leapYearsList=[i for i in range(startYear,endYear+1) if (i%400)==0 or (i%100)!=0 and (i%4)==0 ]\n",
    "leapYearsList"
   ]
  },
  {
   "cell_type": "code",
   "execution_count": 80,
   "metadata": {},
   "outputs": [
    {
     "data": {
      "text/plain": [
       "[[None, None, None]]"
      ]
     },
     "execution_count": 80,
     "metadata": {},
     "output_type": "execute_result"
    }
   ],
   "source": [
    "li=[1,2,3,2,1]\n",
    "unique=[]\n",
    "unique=[unique.append(i) for i in li if i not in unique ]\n",
    "unique"
   ]
  },
  {
   "cell_type": "markdown",
   "metadata": {},
   "source": [
    "### Iterators\n",
    "\n",
    "* Iterable - Strings, Lists, Tuples, Sets, Dictionaries\n",
    "\n",
    "* Convert Iterable to Iterator -> iter()\n",
    "\n",
    "* For Loop: \n",
    "* Iterator : Contorl of iteration is easy. It pauses the execution and continues from the point where it stops\n"
   ]
  },
  {
   "cell_type": "code",
   "execution_count": 103,
   "metadata": {},
   "outputs": [
    {
     "name": "stdout",
     "output_type": "stream",
     "text": [
      "<str_iterator object at 0x0000026A24DE75C0>\n"
     ]
    }
   ],
   "source": [
    "it=iter('Python')\n",
    "print(it)\n",
    "    "
   ]
  },
  {
   "cell_type": "code",
   "execution_count": null,
   "metadata": {},
   "outputs": [],
   "source": [
    "# Generator is a Funciton where"
   ]
  },
  {
   "cell_type": "code",
   "execution_count": 111,
   "metadata": {},
   "outputs": [
    {
     "data": {
      "text/plain": [
       "8"
      ]
     },
     "execution_count": 111,
     "metadata": {},
     "output_type": "execute_result"
    }
   ],
   "source": [
    "def generator():\n",
    "    n=2\n",
    "    yield n\n",
    "    \n",
    "    n=n**3\n",
    "    yield n\n",
    "    \n",
    "a=generator()\n",
    "next(a)\n",
    "next(a)\n",
    "\n",
    "    "
   ]
  },
  {
   "cell_type": "code",
   "execution_count": 126,
   "metadata": {},
   "outputs": [
    {
     "name": "stdout",
     "output_type": "stream",
     "text": [
      "8\n",
      "512\n",
      "134217728\n"
     ]
    }
   ],
   "source": [
    "def generator1():\n",
    "    n=2\n",
    "    while(True):\n",
    "        n**=3\n",
    "        yield n\n",
    "        \n",
    "        \n",
    "a=generator1()\n",
    "for i in range(3):\n",
    "    print(next(a))"
   ]
  },
  {
   "cell_type": "code",
   "execution_count": null,
   "metadata": {},
   "outputs": [],
   "source": []
  },
  {
   "cell_type": "code",
   "execution_count": null,
   "metadata": {},
   "outputs": [],
   "source": []
  }
 ],
 "metadata": {
  "kernelspec": {
   "display_name": "Python 3",
   "language": "python",
   "name": "python3"
  },
  "language_info": {
   "codemirror_mode": {
    "name": "ipython",
    "version": 3
   },
   "file_extension": ".py",
   "mimetype": "text/x-python",
   "name": "python",
   "nbconvert_exporter": "python",
   "pygments_lexer": "ipython3",
   "version": "3.7.3"
  }
 },
 "nbformat": 4,
 "nbformat_minor": 2
}
