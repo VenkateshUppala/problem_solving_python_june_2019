{
 "cells": [
  {
   "cell_type": "code",
   "execution_count": null,
   "metadata": {},
   "outputs": [],
   "source": [
    "def findProduct(list):\n",
    "   ans=1\n",
    "   for i in list:\n",
    "       i = int(i)\n",
    "       ans=(ans*i)%(10**9+7)\n",
    "   print(ans)\n",
    "s = int(input())\n",
    "n = input()\n",
    "n = n.split()\n",
    "findProduct(n)"
   ]
  },
  {
   "cell_type": "code",
   "execution_count": null,
   "metadata": {},
   "outputs": [],
   "source": [
    "def brickgame(bricks):\n",
    "    motuCount=0\n",
    "    patluCount=0\n",
    "    i=1\n",
    "    brickCount=0\n",
    "    while i<bricks:\n",
    "       # print(i)\n",
    "        if(brickCount<bricks):\n",
    "            motuCount=i*1\n",
    "            patluCount=i*2\n",
    "            brickCount=motuCount+patluCount\n",
    "            i+=1\n",
    "    print(motuCount)    \n",
    "    print(patluCount)\n",
    "    print(brickCount)\n",
    "    \n",
    "\n",
    "brickgame(9)"
   ]
  },
  {
   "cell_type": "code",
   "execution_count": null,
   "metadata": {},
   "outputs": [],
   "source": [
    "def ali(lis):\n",
    "    vali=\"Valid\"\n",
    "    notVali=\"not Valid\"\n",
    "    if (int(lis[0])+int(lis[1]))%2==0 and (int(lis[3])+int(lis[4]))%2==0 and (int(lis[4])+int(lis[5]))%2==0 and (int(lis[7])+int(lis[8]))%2==0:\n",
    "        if(lis[2]!=\"A\" and lis[2]!=\"E\" and lis[2]!=\"I\" and lis[2]!=\"O\" and lis[2]!=\"U\" and lis[2]!=\"Y\"):\n",
    "            print(vali)\n",
    "        else:\n",
    "            print(notVali)\n",
    "    else:\n",
    "        print(notVali)\n",
    "\n",
    "name=input()\n",
    "lis=list(name)\n",
    "#name=name.split()\n",
    "ali(lis)"
   ]
  },
  {
   "cell_type": "code",
   "execution_count": null,
   "metadata": {},
   "outputs": [],
   "source": [
    "## Seating Arrangement\n",
    "\n",
    "def seatarrangemt(seatNumber):\n",
    "   rem=seatNumber%12\n",
    "   optseatno = 0\n",
    "   seattype = \"\"\n",
    "   if rem == 0:\n",
    "       optseatno = abs(seatNumber-11)\n",
    "       seattype = \"WS\"\n",
    "   elif rem==1:\n",
    "       optseatno = abs(seatNumber+11)\n",
    "       seattype = \"WS\"\n",
    "   elif rem==2:\n",
    "       optseatno = abs(seatNumber+9)\n",
    "       seattype = \"MS\"\n",
    "   elif rem==3:\n",
    "       optseatno = abs(seatNumber+7)\n",
    "       seattype = \"AS\"\n",
    "   elif rem==4:\n",
    "       optseatno = abs(seatNumber+5)\n",
    "       seattype = \"AS\"\n",
    "   elif rem==5:\n",
    "       optseatno = abs(seatNumber+3)\n",
    "       seattype = \"MS\"\n",
    "   elif rem==6:\n",
    "       optseatno = abs(seatNumber+1)\n",
    "       seattype = \"WS\"\n",
    "   elif rem==7:\n",
    "       optseatno = abs(seatNumber-1)\n",
    "       seattype = \"WS\"\n",
    "   elif rem==8:\n",
    "       optseatno = abs(seatNumber-3)\n",
    "       seattype = \"MS\"\n",
    "   elif rem==9:\n",
    "       optseatno = abs(seatNumber-5)\n",
    "       seattype = \"AS\"\n",
    "   elif rem==10:\n",
    "       optseatno = abs(seatNumber-7)\n",
    "       seattype = \"AS\"\n",
    "   elif rem==11:\n",
    "       optseatno = abs(seatNumber-9)\n",
    "       seattype = \"MS\"\n",
    "   print(optseatno,end=' ')\n",
    "   print(seattype)\n",
    "n = int(input())\n",
    "for i in range(n):\n",
    "   s = int(input())\n",
    "   seatarrangemt(s)"
   ]
  },
  {
   "cell_type": "code",
   "execution_count": null,
   "metadata": {},
   "outputs": [],
   "source": [
    "## Anagram Problem\n",
    "\n",
    "def anagram(a,b):\n",
    "   \n",
    "   c = 0\n",
    "   for i in set(a):\n",
    "       if a.count(i) == b.count(i):\n",
    "           c += a.count(i)\n",
    "       else:\n",
    "           c += min([a.count(i),b.count(i)])\n",
    "   print(len(a) + len(b) - 2 * c)\n",
    "\n",
    "t = int(input())\n",
    "for i in range(t):\n",
    "   a = input()\n",
    "   b = input()\n",
    "   anagram(a,b)"
   ]
  },
  {
   "cell_type": "code",
   "execution_count": null,
   "metadata": {},
   "outputs": [],
   "source": [
    "### Life and Universe\n",
    "\n",
    "while(True):\n",
    "    n=int(input())\n",
    "    if n!=42:\n",
    "        print(n)\n",
    "    else:\n",
    "        break"
   ]
  },
  {
   "cell_type": "code",
   "execution_count": null,
   "metadata": {},
   "outputs": [],
   "source": []
  }
 ],
 "metadata": {
  "kernelspec": {
   "display_name": "Python 3",
   "language": "python",
   "name": "python3"
  },
  "language_info": {
   "codemirror_mode": {
    "name": "ipython",
    "version": 3
   },
   "file_extension": ".py",
   "mimetype": "text/x-python",
   "name": "python",
   "nbconvert_exporter": "python",
   "pygments_lexer": "ipython3",
   "version": "3.7.3"
  }
 },
 "nbformat": 4,
 "nbformat_minor": 2
}
