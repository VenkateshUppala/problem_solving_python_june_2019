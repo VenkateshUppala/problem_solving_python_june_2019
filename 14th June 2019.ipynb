{
 "cells": [
  {
   "cell_type": "markdown",
   "metadata": {},
   "source": [
    "### Problem Solving and Programming in Python - Day 4\n",
    "\n",
    "### Date -14 June 2019\n",
    "\n",
    "### Day Objectives\n",
    "\n",
    "* Python Data Structures\n",
    "    * Lists\n",
    "    * Tuples\n",
    "    * Dictionaries\n",
    "* Basic Problem set on Data Structures\n",
    "* Advanced Problem Set\n",
    "* Packages and Modules in Python"
   ]
  },
  {
   "cell_type": "code",
   "execution_count": null,
   "metadata": {},
   "outputs": [],
   "source": [
    "# Lists\n",
    "\n",
    "li=[123,978,\"Venkatesh\"]\n",
    "li # Access the entire list\n",
    "\n",
    "li[1]\n",
    "li[1:] # Access all elements from second element to last element\n",
    "li[::-1] #Access all the elements in reverse order\n",
    "li[::2]\n",
    "li[1::2]\n",
    "\n",
    "# List can be accessed and manipuated in\n",
    "    # Directed Referencing - [index]\n",
    "    # Indirect Referencing - through function\n",
    "    \n",
    "li.append(345)\n",
    "\n",
    "# Adding an element at particular index\n",
    "li.insert(2,\"Sai Sankar\")\n",
    "\n",
    "# Sorting of elements in list\n",
    "#li.sort()\n",
    "#li.sort()\n",
    "\n",
    "# Remove the last element in the list\n",
    "li.pop(-2)\n",
    "\n",
    "li2=[\"Sandhya\",\"siva\",2,4,7.7]\n",
    "\n",
    "# Merge list 2 into list1\n",
    "li.extend(li2)\n",
    "\n",
    "# Sum of all the integers in the list can be calculated by using\n",
    "# sum(li)\n",
    "\n",
    "# Maximum element in the list can be calculated by using \n",
    "# max(li)\n",
    "\n",
    "# Length of the list can be calculated by using len()\n",
    "len(li)\n"
   ]
  },
  {
   "cell_type": "markdown",
   "metadata": {},
   "source": [
    "### Program to find the average of all the elements in a given list"
   ]
  },
  {
   "cell_type": "code",
   "execution_count": null,
   "metadata": {},
   "outputs": [],
   "source": [
    "li=[10,23,345,2342,6785,782347]\n",
    "avg=sum(li)/len(li)\n",
    "print(avg)"
   ]
  },
  {
   "cell_type": "code",
   "execution_count": null,
   "metadata": {},
   "outputs": [],
   "source": [
    "# Average of all the alternate elements in the list\n",
    "\n",
    "li1=li[::2]\n",
    "sum(li1)/len(li1)"
   ]
  },
  {
   "cell_type": "code",
   "execution_count": null,
   "metadata": {},
   "outputs": [],
   "source": [
    "# Function to identify the second largest element in a list\n",
    "\n",
    "def secondLargest(li):\n",
    "    li.sort()\n",
    "    print(li[-2])\n",
    "secondLargest(li)"
   ]
  },
  {
   "cell_type": "code",
   "execution_count": null,
   "metadata": {},
   "outputs": [],
   "source": [
    "def genericLargest(li,n):\n",
    "    #num=int(input(\"Enter the number: \"))\n",
    "    #print(li.sort())\n",
    "    print(li[-n])\n",
    "genericLargest(li,3)"
   ]
  },
  {
   "cell_type": "code",
   "execution_count": null,
   "metadata": {},
   "outputs": [],
   "source": [
    "mylist=[2343,23,324,2342,3,43,3424]\n",
    "def compareNumbers(li):\n",
    "    for i in range(0,len(li)-1):\n",
    "        if li[i]> li[i+1]:\n",
    "            li[i]=li[i+1]\n",
    "            li[i+1]=li[1]\n",
    "        elif li[i]<li[i+1]:\n",
    "            li[i+1]=li[1]\n",
    "            li[i]=li[i+1]\n",
    "    return li\n",
    "\n",
    "compareNumbers(mylist)"
   ]
  },
  {
   "cell_type": "code",
   "execution_count": null,
   "metadata": {},
   "outputs": [],
   "source": [
    "# Function to search for data in a list\n",
    "# Search for the key in the list and return the index of the key. Return -1 if key is not found\n",
    "\n",
    "mylist=[2343,23,324,2342,3,43,3424]\n",
    "def linearSearch(li,key):\n",
    "    for i in range(0,len(li)):\n",
    "        if li[i]==key:\n",
    "            return i\n",
    "    return -1\n",
    "\n",
    "def linearSearch2(li,key):\n",
    "    for element in li:\n",
    "        if element==key:\n",
    "            return li.index(element)\n",
    "    return -1\n",
    "\n",
    "linearSearch(mylist,3)\n",
    "linearSearch2(mylist,324)\n",
    "        "
   ]
  },
  {
   "cell_type": "code",
   "execution_count": null,
   "metadata": {},
   "outputs": [],
   "source": [
    "\n",
    "mylist=[2343,23,324,2342,3,43,3424]\n",
    "try:\n",
    "    print(mylist.index(324))\n",
    "except:\n",
    "     print(-1)"
   ]
  },
  {
   "cell_type": "code",
   "execution_count": null,
   "metadata": {},
   "outputs": [],
   "source": [
    "print(mylist.index(324)) if mylist.index(324)>0 else \"-1\" "
   ]
  },
  {
   "cell_type": "code",
   "execution_count": null,
   "metadata": {},
   "outputs": [],
   "source": [
    "# Function to count the occurance of a character in a given string\n",
    "# \"Python Programming\" , m --> 2\n",
    "\n",
    "def findStringCount(m):\n",
    "    count=0\n",
    "    for ch in \"Python Programming\":\n",
    "        if ch==\"P\":\n",
    "            count=count+1\n",
    "    return count\n",
    "    \n",
    "        \n",
    "findStringCount(\"P\")"
   ]
  },
  {
   "cell_type": "code",
   "execution_count": null,
   "metadata": {},
   "outputs": [],
   "source": [
    "def front3(str):\n",
    "  # Figure the end of the front\n",
    "  front_end = 3\n",
    "  if len(str) < front_end:\n",
    "    front_end = len(str)\n",
    "  front = str[:front_end]\n",
    "  return front + front + front "
   ]
  },
  {
   "cell_type": "code",
   "execution_count": null,
   "metadata": {},
   "outputs": [],
   "source": [
    "n=int(input(\"Enter the Number\"))\n",
    "s=input()\n",
    "li=s.split(\", \")\n",
    "s\n",
    "li"
   ]
  },
  {
   "cell_type": "markdown",
   "metadata": {},
   "source": []
  },
  {
   "cell_type": "code",
   "execution_count": null,
   "metadata": {},
   "outputs": [],
   "source": [
    "n=int(input())\n",
    "def sumSquares(n):\n",
    "    sum=0\n",
    "    for i in range(1,n+1):\n",
    "        sum=sum+i**2\n",
    "    print(sum)\n",
    "    \n",
    "sumSquares(4)\n",
    "    "
   ]
  },
  {
   "cell_type": "code",
   "execution_count": null,
   "metadata": {},
   "outputs": [],
   "source": [
    "n= int(input())\n",
    "s= input()\n",
    "li=[]\n",
    "for i in s.split():\n",
    "    li.append(int(i))\n",
    "#min(li)\n",
    "\n",
    "def closestZero(li):\n",
    "    # Seperate all numbers less than zero\n",
    "    # all numbers greater than0, get all numbers less than 0\n",
    "    nl = []\n",
    "    pl=[]\n",
    "    for i in li:\n",
    "        if i<0:\n",
    "            nl.append(i)\n",
    "    for i in li:\n",
    "        if i>=0:\n",
    "            pl.append(i)\n",
    "        \n",
    "    nc=max(nl)\n",
    "    pc=min(pl)\n",
    "    if pc==0:\n",
    "        return 0\n",
    "    if abs(nc)==pc:\n",
    "        return pc\n",
    "    elif abs(nc)<pc:\n",
    "        return abs(nc)\n",
    "    else:\n",
    "        return pc\n",
    "    \n",
    "closestZero(li)"
   ]
  },
  {
   "cell_type": "code",
   "execution_count": null,
   "metadata": {},
   "outputs": [],
   "source": [
    "n=int(input())\n",
    "s=input()\n",
    "s=s.split()\n",
    "li=[]\n",
    "ni=[]\n",
    "for i in s:\n",
    "    ni.append(i)\n",
    "    li.append(abs(int(i)))\n",
    "    avg=li.index(min(li))\n",
    "    print(avg)\n",
    "\n",
    "ni[avg]"
   ]
  }
 ],
 "metadata": {
  "kernelspec": {
   "display_name": "Python 3",
   "language": "python",
   "name": "python3"
  },
  "language_info": {
   "codemirror_mode": {
    "name": "ipython",
    "version": 3
   },
   "file_extension": ".py",
   "mimetype": "text/x-python",
   "name": "python",
   "nbconvert_exporter": "python",
   "pygments_lexer": "ipython3",
   "version": "3.7.3"
  }
 },
 "nbformat": 4,
 "nbformat_minor": 2
}
