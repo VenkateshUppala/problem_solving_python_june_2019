{
 "cells": [
  {
   "cell_type": "code",
   "execution_count": 4,
   "metadata": {},
   "outputs": [
    {
     "data": {
      "text/plain": [
       "1"
      ]
     },
     "execution_count": 4,
     "metadata": {},
     "output_type": "execute_result"
    }
   ],
   "source": [
    "# Function to find the second laregest number in a list\n",
    "\n",
    "def secondLargest(lis):\n",
    "    # Convert the list into a unique list\n",
    "    unique=[]\n",
    "    for n in lis:\n",
    "        if n not in unique:\n",
    "            unique.append(n)\n",
    "    unique=sorted(unique,reverse=True)\n",
    "    if len(unique)==1:\n",
    "        return unique[0]\n",
    "    else:\n",
    "        return unique[1]\n",
    "\n",
    "secondLargest([1,2,3,4,2,5,8,7,1,2,8,8])"
   ]
  },
  {
   "cell_type": "code",
   "execution_count": 12,
   "metadata": {},
   "outputs": [
    {
     "name": "stdout",
     "output_type": "stream",
     "text": [
      "[1, 2, 3, 4, 5, 7, 8]\n"
     ]
    },
    {
     "data": {
      "text/plain": [
       "5"
      ]
     },
     "execution_count": 12,
     "metadata": {},
     "output_type": "execute_result"
    }
   ],
   "source": [
    "def fifthLeast(lis):\n",
    "    # Convert the list into a unique list\n",
    "    unique=[]\n",
    "    for n in lis:\n",
    "        if n not in unique:\n",
    "            unique.append(n)\n",
    "    unique=sorted(unique)\n",
    "    print(unique)\n",
    "    if len(unique)==1:\n",
    "        return unique[0]\n",
    "    elif len(unique)>1:\n",
    "        return unique[4]\n",
    "    else:\n",
    "        return -1\n",
    "\n",
    "fifthLeast([1,2,3,4,2,5,8,7,1,2,8,8])"
   ]
  },
  {
   "cell_type": "code",
   "execution_count": 17,
   "metadata": {},
   "outputs": [
    {
     "name": "stdout",
     "output_type": "stream",
     "text": [
      "4\n",
      "[8, 7, 5, 4, 3, 2, 1]\n"
     ]
    },
    {
     "data": {
      "text/plain": [
       "4"
      ]
     },
     "execution_count": 17,
     "metadata": {},
     "output_type": "execute_result"
    }
   ],
   "source": [
    "def kLargest(lis,rank):\n",
    "    # Convert the list into a unique list\n",
    "    unique=[]\n",
    "    for n in lis:\n",
    "        if n not in unique:\n",
    "            unique.append(n)\n",
    "    unique=sorted(unique,reverse=True)\n",
    "    print(unique)\n",
    "    if len(unique)==1:\n",
    "        return unique[0]\n",
    "    elif len(unique)>1:\n",
    "        return unique[rank-1]\n",
    "    else:\n",
    "        return -1\n",
    "\n",
    "ip=int(input())\n",
    "kLargest([1,2,3,4,2,5,8,7,1,2,8,8],ip)"
   ]
  },
  {
   "cell_type": "code",
   "execution_count": 20,
   "metadata": {},
   "outputs": [
    {
     "name": "stdout",
     "output_type": "stream",
     "text": [
      "4\n",
      "[1, 2, 3, 4, 5, 7, 8]\n"
     ]
    },
    {
     "data": {
      "text/plain": [
       "4"
      ]
     },
     "execution_count": 20,
     "metadata": {},
     "output_type": "execute_result"
    }
   ],
   "source": [
    "def kSmallest(lis,rank):\n",
    "    # Convert the list into a unique list\n",
    "    unique=[]\n",
    "    for n in lis:\n",
    "        if n not in unique:\n",
    "            unique.append(n)\n",
    "    unique=sorted(unique)\n",
    "    print(unique)\n",
    "    if len(unique)==1:\n",
    "        return unique[0]\n",
    "    elif len(unique)>1:\n",
    "        return unique[rank-1]\n",
    "    else:\n",
    "        return -1\n",
    "\n",
    "ip=int(input())\n",
    "kSmallest([1,2,3,4,2,5,8,7,1,2,8,8],ip)"
   ]
  },
  {
   "cell_type": "code",
   "execution_count": null,
   "metadata": {},
   "outputs": [],
   "source": []
  }
 ],
 "metadata": {
  "kernelspec": {
   "display_name": "Python 3",
   "language": "python",
   "name": "python3"
  },
  "language_info": {
   "codemirror_mode": {
    "name": "ipython",
    "version": 3
   },
   "file_extension": ".py",
   "mimetype": "text/x-python",
   "name": "python",
   "nbconvert_exporter": "python",
   "pygments_lexer": "ipython3",
   "version": "3.7.3"
  }
 },
 "nbformat": 4,
 "nbformat_minor": 2
}
