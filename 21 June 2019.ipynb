{
 "cells": [
  {
   "cell_type": "code",
   "execution_count": 27,
   "metadata": {},
   "outputs": [],
   "source": [
    "li=[]\n",
    "def magicalAlphabet(stri):\n",
    "    for i in stri:\n",
    "        li.append(ord(i))\n",
    "    print(li)\n",
    "    return\n",
    "\n",
    "def allPrimes(lower,upper):\n",
    "    count=0\n",
    "    for num in range(lower,upper + 1):\n",
    "   # prime numbers are greater than 1\n",
    "        if num > 1:\n",
    "            for i in range(2,num):\n",
    "                if (num % i) == 0:\n",
    "                    break\n",
    "                else:\n",
    "                    print(num)\n",
    "\n",
    "def isPrime(num):\n",
    "    count=0\n",
    "    for i in range(1,num+1):\n",
    "        if(i%2==0):\n",
    "            count=count+1\n",
    "    if count==2:\n",
    "        return True\n",
    "    else:\n",
    "        return False\n",
    "    \n",
    "    \n",
    "    \n",
    "#isPrime(10)\n",
    "    \n",
    "\n",
    "#magicalAlphabet(\"venky\")\n",
    "#allPrimes(1,100)\n",
    "        \n",
    "    "
   ]
  },
  {
   "cell_type": "code",
   "execution_count": null,
   "metadata": {},
   "outputs": [],
   "source": [
    "str = \"\"\n",
    "def occurences(str1):\n",
    "    for i in str1:\n",
    "        print(i)\n",
    "        print(str1.count(i))\n",
    "    return\n",
    "\n",
    "n=int(input())\n",
    "for i in range(1,n+1):\n",
    "    m=input()\n",
    "    occurences(m)\n",
    "    "
   ]
  },
  {
   "cell_type": "code",
   "execution_count": 12,
   "metadata": {},
   "outputs": [
    {
     "name": "stdout",
     "output_type": "stream",
     "text": [
      "True\n"
     ]
    }
   ],
   "source": [
    "import re\n",
    "def checkContactExists(name):\n",
    "    filename=\"DataFiles/contacts.txt\"\n",
    "    with open(filename,'r') as f:\n",
    "        filedata=f.read()\n",
    "        pattern='name+',\n",
    "    return re.search(name,filedata)\n",
    "\n",
    "if (checkContactExists(\"venk\")):\n",
    "    print(True)\n",
    "else:\n",
    "    print(False)\n",
    "\n",
    "#checkContactExists('venky')"
   ]
  },
  {
   "cell_type": "code",
   "execution_count": 8,
   "metadata": {},
   "outputs": [
    {
     "name": "stdout",
     "output_type": "stream",
     "text": [
      "\n",
      " pjj already exists\n"
     ]
    }
   ],
   "source": [
    "from Packages.validators import phoneNumberValidator,emailValidator\n",
    "contacts1={}\n",
    "\n",
    "def addContact(name,phone,email):\n",
    "    filename='DataFiles/contacts.txt'\n",
    "    if not checkContactExists(name):\n",
    "        if phoneNumberValidator(phone) and emailValidator(email):\n",
    "            with open(filename,'a') as f:\n",
    "                line=name+','+str(phone)+','+email\n",
    "                f.write(line)\n",
    "            print(name,'added to contacts')\n",
    "        else:\n",
    "            print(name,'already exists')\n",
    "    return\n",
    "\n",
    "addContact(\"\\n pjj\",9876543214,\"muni@gmail.com\")\n",
    "\n"
   ]
  },
  {
   "cell_type": "code",
   "execution_count": 21,
   "metadata": {},
   "outputs": [
    {
     "data": {
      "text/plain": [
       "'sai,6876543210,venky.apssdc@gmail.com\\nuv,6876543210,venky.apssdc@gmail.com\\nsaral,6876543210,venky.apssdc@gmail.com'"
      ]
     },
     "execution_count": 21,
     "metadata": {},
     "output_type": "execute_result"
    }
   ],
   "source": [
    "filename='DataFiles/contacts.txt'\n",
    "lis=[]\n",
    "def contactsToList(contacts):\n",
    "    with open(filename,'r') as f:\n",
    "        for line in f:\n",
    "            lis.append(line.split(','))\n",
    "    return lis\n",
    "\n",
    "\n",
    "def listToFile(li):\n",
    "    s=''\n",
    "    for i in li:\n",
    "        s+=','.join(i)\n",
    "    return s\n",
    "\n",
    "li=contactsToList(filename)\n",
    "listToFile(li)\n",
    "            \n",
    "    "
   ]
  },
  {
   "cell_type": "code",
   "execution_count": null,
   "metadata": {},
   "outputs": [],
   "source": []
  }
 ],
 "metadata": {
  "kernelspec": {
   "display_name": "Python 3",
   "language": "python",
   "name": "python3"
  },
  "language_info": {
   "codemirror_mode": {
    "name": "ipython",
    "version": 3
   },
   "file_extension": ".py",
   "mimetype": "text/x-python",
   "name": "python",
   "nbconvert_exporter": "python",
   "pygments_lexer": "ipython3",
   "version": "3.7.3"
  }
 },
 "nbformat": 4,
 "nbformat_minor": 2
}
