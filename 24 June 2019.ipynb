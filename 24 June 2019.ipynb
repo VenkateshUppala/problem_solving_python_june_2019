{
 "cells": [
  {
   "cell_type": "code",
   "execution_count": 1,
   "metadata": {},
   "outputs": [],
   "source": [
    "# Contacts Application\n",
    "    # Add, Modify ,Delete, Search, list \n",
    "    \n",
    "# Find and Replace Application\n",
    "    # Count the total no of occurences of s\n",
    "    # if word is existing\n",
    "    # Replace all occurences of a word with another word\n",
    "\n",
    "# Marks analysis Application\n",
    "    # Generate matks file for n students\n",
    "    # Input: Marks text file -each line\n",
    "    # Generates a report with the following\n",
    "        # Class Average\n",
    "        # % of students passed\n",
    "        # % of students failed\n",
    "        # % of students with distinction\n",
    "        # Highest Mark Frequency\n",
    "        # Lowest Mark Frequency"
   ]
  },
  {
   "cell_type": "code",
   "execution_count": 66,
   "metadata": {},
   "outputs": [
    {
     "name": "stdout",
     "output_type": "stream",
     "text": [
      "2909\n",
      "1454.0\n",
      "4229686\n"
     ]
    }
   ],
   "source": [
    "# Function to generate marks data for n students\n",
    "\n",
    "from random import randint\n",
    "\n",
    "def generateMarks(n,lb,hb):\n",
    "    with open('DataFiles/marks.txt','w') as f:\n",
    "        for i in range(0,n):\n",
    "            r=randint(lb,hb)\n",
    "            f.write(str(r)+\"\\n\")\n",
    "    return\n",
    "\n",
    "\n",
    "import re\n",
    "\n",
    "filename='DataFiles/marks.txt'\n",
    "def classAverage():\n",
    "    sum=0\n",
    "    classAvg=0\n",
    "    with open('DataFiles/marks.txt','r') as f:\n",
    "\n",
    "        pattern=' \\n'\n",
    "        filedata=f.read()\n",
    "        for i in range(0,len(filedata)):\n",
    "            sum+=i\n",
    "        classAvg=sum/len(filedata)\n",
    "        print(len(filedata))\n",
    "        print(classAvg)\n",
    "        print(sum)\n",
    "    return\n",
    "\n",
    "classAverage()   \n",
    "#generateMarks(1000,0,100)"
   ]
  },
  {
   "cell_type": "code",
   "execution_count": 100,
   "metadata": {},
   "outputs": [],
   "source": [
    "def readDataFromFile(filename):\n",
    "    with open(filename,'r') as f:\n",
    "        filedata=f.read().split()\n",
    "    return filedata\n",
    "readDataFromFile(filename)"
   ]
  },
  {
   "cell_type": "code",
   "execution_count": 171,
   "metadata": {},
   "outputs": [
    {
     "name": "stdout",
     "output_type": "stream",
     "text": [
      "15\n"
     ]
    },
    {
     "data": {
      "text/plain": [
       "75.0"
      ]
     },
     "execution_count": 171,
     "metadata": {},
     "output_type": "execute_result"
    }
   ],
   "source": [
    "def passPercentage(filename):\n",
    "    modified=[]\n",
    "    pas=[]\n",
    "    sum=0\n",
    "    pCount=0\n",
    "    with open(filename,'r') as f:\n",
    "        filedata=f.read().split()\n",
    "        for i in filedata:\n",
    "            modified.append(int(i))\n",
    "            #print(modified)\n",
    "        for j in modified:\n",
    "            if j>=40:\n",
    "                pCount+=1\n",
    "                pas.append(j)\n",
    "        for k in pas:\n",
    "            sum=sum+k\n",
    "        #print(\"Pass Percentage is :\",sum/len(pas))\n",
    "        print(pCount)\n",
    "        return (pCount/len(filedata))*100\n",
    "passPercentage(filename)\n"
   ]
  },
  {
   "cell_type": "code",
   "execution_count": 170,
   "metadata": {},
   "outputs": [
    {
     "name": "stdout",
     "output_type": "stream",
     "text": [
      "5\n"
     ]
    },
    {
     "data": {
      "text/plain": [
       "25.0"
      ]
     },
     "execution_count": 170,
     "metadata": {},
     "output_type": "execute_result"
    }
   ],
   "source": [
    "def failPercentage():\n",
    "    mdified=[]\n",
    "    fail=[]\n",
    "    failSum=0\n",
    "    fCount=0\n",
    "    with open(filename,'r') as f:\n",
    "        filedata=f.read().split()\n",
    "    for i in filedata:\n",
    "        mdified.append(int(i))\n",
    "    for j in mdified:\n",
    "        if j<40:\n",
    "            fCount+=1\n",
    "            fail.append(j)\n",
    "    for k in fail:\n",
    "        failSum=failSum+k\n",
    "    #print(\"Fail Percentage is: \",failSum/len(fail))\n",
    "    print(fCount)\n",
    "    return (fCount/len(filedata))*100\n",
    "                \n",
    "failPercentage()"
   ]
  },
  {
   "cell_type": "code",
   "execution_count": 166,
   "metadata": {},
   "outputs": [
    {
     "data": {
      "text/plain": [
       "1.0"
      ]
     },
     "execution_count": 166,
     "metadata": {},
     "output_type": "execute_result"
    }
   ],
   "source": [
    "def distinctionPercentage():\n",
    "    mdified=[]\n",
    "    distinc=[]\n",
    "    discount=0\n",
    "    distinctSum=0\n",
    "    with open(filename,'r') as f:\n",
    "        filedata=f.read().split()\n",
    "    for i in filedata:\n",
    "        mdified.append(int(i))\n",
    "    for j in mdified:\n",
    "        if j>=60:\n",
    "            discount+=1\n",
    "            distinc.append(j)\n",
    "    for k in distinc:\n",
    "        distinctSum=distinctSum+k\n",
    "    #print(\"Fail Percentage is: \",failSum/len(fail))\n",
    "    return discount/len(distinc)\n",
    "                \n",
    "distinctionPercentage()"
   ]
  },
  {
   "cell_type": "code",
   "execution_count": 193,
   "metadata": {},
   "outputs": [
    {
     "name": "stdout",
     "output_type": "stream",
     "text": [
      "2\n"
     ]
    }
   ],
   "source": [
    "def highestMarksFrequency(filename):\n",
    "    highestMarks=0\n",
    "    filelist=[]\n",
    "    hCount=0\n",
    "    with open(filename,'r') as f:\n",
    "        filedata=f.read().split()\n",
    "        filelist=list(map(int,filedata))\n",
    "        filelist.sort()\n",
    "        #print(filelist)\n",
    "        highestMarks=max(filelist)\n",
    "        for i in range(len(filelist)):\n",
    "            if filelist[i]==highestMarks:\n",
    "                hCount+=1\n",
    "        print(hCount)\n",
    "highestMarksFrequency(filename)    "
   ]
  },
  {
   "cell_type": "code",
   "execution_count": 189,
   "metadata": {},
   "outputs": [
    {
     "name": "stdout",
     "output_type": "stream",
     "text": [
      "1\n"
     ]
    }
   ],
   "source": [
    "def highestMarksFrequency(filename):\n",
    "    lowestMarks=0\n",
    "    filelist=[]\n",
    "    hCount=0\n",
    "    with open(filename,'r') as f:\n",
    "        filedata=f.read().split()\n",
    "        filelist=list(map(int,filedata))\n",
    "        filelist.sort()\n",
    "        #print(filelist)\n",
    "        lowestMarks=min(filelist)\n",
    "        for i in range(len(filelist)):\n",
    "            if filelist[i]==lowestMarks:\n",
    "                hCount+=1\n",
    "        print(hCount)\n",
    "highestMarksFrequency(filename)    "
   ]
  },
  {
   "cell_type": "code",
   "execution_count": 104,
   "metadata": {},
   "outputs": [
    {
     "name": "stdout",
     "output_type": "stream",
     "text": [
      "21\n"
     ]
    }
   ],
   "source": [
    "n='123456'\n",
    "n=list(map(int,n))\n",
    "sum=0\n",
    "for i in range(0,len(n)+1):\n",
    "    sum=sum+i\n",
    "print(sum)"
   ]
  },
  {
   "cell_type": "code",
   "execution_count": 39,
   "metadata": {},
   "outputs": [
    {
     "name": "stdout",
     "output_type": "stream",
     "text": [
      "hi\n"
     ]
    }
   ],
   "source": [
    "\"\"\"num='123456789'\n",
    "n='a22334785959rkdfh4483402'\n",
    "n=list(map(str,n))\n",
    "strCount=0\n",
    "for i in num:\n",
    "    #print(i)\n",
    "    if i not in num:\n",
    "        print(i,\"is\",0)\n",
    "    else:\n",
    "        #str.count(i)\n",
    "        print(i, \"is\", str.count('2'))\"\"\"\n",
    "print(\"hi\")"
   ]
  },
  {
   "cell_type": "code",
   "execution_count": 44,
   "metadata": {},
   "outputs": [],
   "source": [
    "filename='DataFiles/findAndReplace'\n",
    "def writeIntoFile():\n",
    "    with open('DataFiles/findAndReplace','w') as f:\n",
    "        filedata=\"hi this is venkatesh and this is shamee\"\n",
    "        f.write(filedata)\n",
    "    return\n",
    "\n",
    "writeIntoFile()    "
   ]
  },
  {
   "cell_type": "code",
   "execution_count": 45,
   "metadata": {},
   "outputs": [
    {
     "data": {
      "text/plain": [
       "['hi', 'this', 'is', 'venkatesh', 'and', 'this', 'is', 'shamee']"
      ]
     },
     "execution_count": 45,
     "metadata": {},
     "output_type": "execute_result"
    }
   ],
   "source": [
    "def readFile(filename):\n",
    "    with open(filename,'r') as f:\n",
    "        filedata=f.read().split()\n",
    "    return filedata\n",
    "\n",
    "readFile(filename)\n"
   ]
  },
  {
   "cell_type": "code",
   "execution_count": 53,
   "metadata": {},
   "outputs": [
    {
     "name": "stdout",
     "output_type": "stream",
     "text": [
      "['hi', 'this', 'is', 'venkatesh', 'and', 'this', 'is', 'shamee']\n",
      "['hi', 'this', 'is', 'venkatesh', 'and', 'shamee']\n",
      "hi : 1\n",
      "this : 2\n",
      "is : 2\n",
      "venkatesh : 1\n",
      "and : 1\n",
      "shamee : 1\n"
     ]
    }
   ],
   "source": [
    "\n",
    "def totalOccurances(filename):\n",
    "    unique=[]\n",
    "    \n",
    "    lis=readFile(filename)\n",
    "    for word in lis:\n",
    "        if word not in unique:\n",
    "            unique.append(word)\n",
    "    print(lis)\n",
    "    print(unique)\n",
    "    for uword in unique:\n",
    "        if uword in lis:\n",
    "            c = lis.count(uword)\n",
    "        print(uword,':',c)\n",
    "    return\n",
    "totalOccurances(filename)"
   ]
  },
  {
   "cell_type": "code",
   "execution_count": 63,
   "metadata": {},
   "outputs": [
    {
     "name": "stdout",
     "output_type": "stream",
     "text": [
      "this\n",
      "['hi', 'the', 'is', 'venkatesh', 'and', 'the', 'is', 'shamee']\n"
     ]
    }
   ],
   "source": [
    "def wordReplace(filename,string):\n",
    "    lis=readFile(filename)\n",
    "    for i in range(len(lis)):\n",
    "        if lis[i]==string:\n",
    "            lis[i]=\"the\"\n",
    "    print(lis)\n",
    "\n",
    "    #print(lis)\n",
    "    \n",
    "string=input()\n",
    "wordReplace(filename,string)"
   ]
  },
  {
   "cell_type": "code",
   "execution_count": 219,
   "metadata": {},
   "outputs": [
    {
     "data": {
      "text/plain": [
       "'Contact Added Successfully'"
      ]
     },
     "execution_count": 219,
     "metadata": {},
     "output_type": "execute_result"
    }
   ],
   "source": [
    "filename='DataFiles/contacts.txt'\n",
    "def addContacts(name,phone,email):\n",
    "    if not ContactsData(name):\n",
    "        with open(filename,'a') as f:\n",
    "            lines=\"\\n\"+name+\",\"+str(phone)+\",\"+email\n",
    "            f.write(lines)\n",
    "        return \"Contact Added Successfully\"\n",
    "    else:\n",
    "        return \"Name already exists\"\n",
    "\n",
    "addContacts(\"Ramireddy\",98076543221,\"reddy@gmail.com\")"
   ]
  },
  {
   "cell_type": "code",
   "execution_count": 233,
   "metadata": {},
   "outputs": [],
   "source": [
    "def readContacts():\n",
    "    with open(filename,'r') as f:\n",
    "        filedata=f.read().split(\",\")\n",
    "    return filedata\n",
    "\n",
    "\n",
    "readContacts()"
   ]
  },
  {
   "cell_type": "code",
   "execution_count": 211,
   "metadata": {},
   "outputs": [
    {
     "data": {
      "text/plain": [
       "<re.Match object; span=(0, 10), match='venkatesh,'>"
      ]
     },
     "execution_count": 211,
     "metadata": {},
     "output_type": "execute_result"
    }
   ],
   "source": [
    "def ContactsData(name):\n",
    "    filename = 'DataFiles/contacts.txt'\n",
    "    with open(filename, 'r') as f:\n",
    "        filedata = f.read()\n",
    "        pattern = name+','\n",
    "        if re.search(pattern,filedata):\n",
    "            return re.search(pattern, filedata)\n",
    "    return\n",
    "ContactsData('venkatesh')"
   ]
  },
  {
   "cell_type": "code",
   "execution_count": 243,
   "metadata": {},
   "outputs": [
    {
     "name": "stdout",
     "output_type": "stream",
     "text": [
      "No contact found\n",
      "name exists\n",
      "No contact found\n",
      "No contact found\n",
      "No contact found\n"
     ]
    }
   ],
   "source": [
    "def searchContact(name):\n",
    "    contact=[]\n",
    "    with open(filename,'r') as f:\n",
    "        for line in f:\n",
    "            contact.append(line.split(','))\n",
    "    for i in range(len(contact)):\n",
    "        if contact[i][0]==name:\n",
    "            print(\"name exists\")\n",
    "        else:\n",
    "            print(\"No contact found\")\n",
    "\n",
    "\n",
    "searchContact('Venkatesh')"
   ]
  },
  {
   "cell_type": "code",
   "execution_count": 261,
   "metadata": {},
   "outputs": [
    {
     "name": "stdout",
     "output_type": "stream",
     "text": [
      "[2, 2, 1, 1, 1]\n",
      "[2, 1]\n"
     ]
    }
   ],
   "source": [
    "def occurenceOfString(string):\n",
    "    lis=[]\n",
    "    unique=[]\n",
    "    for i in string:\n",
    "        lis.append(string.count(i))\n",
    "    for word in lis:\n",
    "        if word not in unique:\n",
    "            unique.append(word)\n",
    "    print(lis)\n",
    "    print(unique)\n",
    "    return\n",
    "\n",
    "occurenceOfString('aabcd')"
   ]
  },
  {
   "cell_type": "code",
   "execution_count": null,
   "metadata": {},
   "outputs": [],
   "source": []
  }
 ],
 "metadata": {
  "kernelspec": {
   "display_name": "Python 3",
   "language": "python",
   "name": "python3"
  },
  "language_info": {
   "codemirror_mode": {
    "name": "ipython",
    "version": 3
   },
   "file_extension": ".py",
   "mimetype": "text/x-python",
   "name": "python",
   "nbconvert_exporter": "python",
   "pygments_lexer": "ipython3",
   "version": "3.7.3"
  }
 },
 "nbformat": 4,
 "nbformat_minor": 2
}
