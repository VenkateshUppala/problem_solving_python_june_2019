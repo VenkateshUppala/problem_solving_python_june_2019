{
 "cells": [
  {
   "cell_type": "code",
   "execution_count": null,
   "metadata": {},
   "outputs": [],
   "source": [
    "def perfectNumbers(num):\n",
    "    sum=0\n",
    "    for i in range(1,num):\n",
    "        if num%i==0:\n",
    "            sum=sum+i\n",
    "            #print(sum)\n",
    "    if sum==num:\n",
    "        print(\"Yes\")\n",
    "    else:\n",
    "        print(\"No\")\n",
    "\n",
    "n=int(input())\n",
    "for i in range(1,n+1):\n",
    "    number=int(input())\n",
    "    number1=int(input())\n",
    "    number2=int(input())\n",
    "    perfectNumbers(number)\n",
    "    \n",
    "#perfectNumbers(number1)\n",
    "#perfectNumbers(number2)\n",
    "            "
   ]
  },
  {
   "cell_type": "code",
   "execution_count": null,
   "metadata": {},
   "outputs": [],
   "source": [
    "def findInString(str):\n",
    "    numCount=0\n",
    "    charCount=0\n",
    "    for i in str:\n",
    "        if i.isdigit():\n",
    "            numCount=numCount+1\n",
    "        if i.isalpha():\n",
    "            charCount=charCount+1\n",
    "\n",
    "    print(numCount)\n",
    "    print(charCount)\n",
    "    \n",
    "findInString(\"aZ$6\")"
   ]
  },
  {
   "cell_type": "code",
   "execution_count": 1,
   "metadata": {},
   "outputs": [
    {
     "name": "stdout",
     "output_type": "stream",
     "text": [
      "6\n"
     ]
    }
   ],
   "source": [
    "def highestRemainder(num):\n",
    "    li=[]\n",
    "    rm=[]\n",
    "    varNum=0\n",
    "    for i in range(1,num,1):\n",
    "        li.append(num%i)\n",
    "        rm.append(i)\n",
    "        \n",
    "        #print(li)\n",
    "        #print(\"remainder starts form here---------------\")\n",
    "        #print(rm)\n",
    "        maxi=max(li)\n",
    "        vale=li.index(max(li))\n",
    "    print(rm[vale])\n",
    "    #print(vale)\n",
    "    \n",
    "highestRemainder(10)"
   ]
  },
  {
   "cell_type": "code",
   "execution_count": 2,
   "metadata": {},
   "outputs": [],
   "source": [
    "def isPrime(number):\n",
    "    count=0\n",
    "    for i in range(1,number+1):\n",
    "        if number%i==0 :\n",
    "            count=count+1\n",
    "    #print(count)\n",
    "    if count==2:\n",
    "        return True\n",
    "    else:\n",
    "        #print(i, \" is not a prime number\")\n",
    "        return False\n",
    "    \n",
    "#isPrime(3)"
   ]
  },
  {
   "cell_type": "code",
   "execution_count": null,
   "metadata": {},
   "outputs": [
    {
     "name": "stdout",
     "output_type": "stream",
     "text": [
      "3\n",
      "4\n",
      "5\n",
      "NO\n",
      "6\n",
      "YES\n"
     ]
    }
   ],
   "source": [
    "n=int(input())\n",
    "def specialNumber(num):\n",
    "    primeCount=0\n",
    "    for i in range(2,num):\n",
    "        #isPrime()\n",
    "        if num%i==0:\n",
    "            if isPrime(i):\n",
    "                primeCount=primeCount+1\n",
    "    #print(primeCount)\n",
    "    if primeCount==2:\n",
    "        print(\"YES\")\n",
    "    else:\n",
    "        print(\"NO\")\n",
    "\n",
    "\n",
    "for i in range(1,n):\n",
    "    s=int(input())\n",
    "    for j in range(1,s+1):\n",
    "        ip=int(input())\n",
    "        specialNumber(ip)"
   ]
  },
  {
   "cell_type": "code",
   "execution_count": null,
   "metadata": {},
   "outputs": [],
   "source": []
  }
 ],
 "metadata": {
  "kernelspec": {
   "display_name": "Python 3",
   "language": "python",
   "name": "python3"
  },
  "language_info": {
   "codemirror_mode": {
    "name": "ipython",
    "version": 3
   },
   "file_extension": ".py",
   "mimetype": "text/x-python",
   "name": "python",
   "nbconvert_exporter": "python",
   "pygments_lexer": "ipython3",
   "version": "3.7.3"
  }
 },
 "nbformat": 4,
 "nbformat_minor": 2
}
